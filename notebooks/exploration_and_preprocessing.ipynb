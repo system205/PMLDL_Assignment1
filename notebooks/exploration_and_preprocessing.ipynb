{
  "nbformat": 4,
  "nbformat_minor": 0,
  "metadata": {
    "colab": {
      "provenance": []
    },
    "kernelspec": {
      "name": "python3",
      "display_name": "Python 3"
    },
    "language_info": {
      "name": "python"
    }
  },
  "cells": [
    {
      "cell_type": "markdown",
      "source": [
        "# Imports"
      ],
      "metadata": {
        "id": "Re9VDnRXs9Ay"
      }
    },
    {
      "cell_type": "markdown",
      "source": [
        "# Initial data exploration"
      ],
      "metadata": {
        "id": "8sFcEgIJs5nr"
      }
    },
    {
      "cell_type": "code",
      "execution_count": null,
      "metadata": {
        "id": "8D8Fn3NyszUi"
      },
      "outputs": [],
      "source": []
    },
    {
      "cell_type": "markdown",
      "source": [
        "# Data preprocessing - basic ideas"
      ],
      "metadata": {
        "id": "16TWCktzs-aQ"
      }
    },
    {
      "cell_type": "code",
      "source": [],
      "metadata": {
        "id": "MULtJJj4tCcE"
      },
      "execution_count": null,
      "outputs": []
    }
  ]
}