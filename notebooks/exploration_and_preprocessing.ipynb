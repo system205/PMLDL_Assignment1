{
  "cells": [
    {
      "cell_type": "code",
      "execution_count": 1,
      "metadata": {},
      "outputs": [
        {
          "name": "stdout",
          "output_type": "stream",
          "text": [
            "Note: you may need to restart the kernel to use updated packages.\n",
            "Note: you may need to restart the kernel to use updated packages.\n",
            "Note: you may need to restart the kernel to use updated packages.\n",
            "Note: you may need to restart the kernel to use updated packages.\n",
            "Note: you may need to restart the kernel to use updated packages.\n",
            "Note: you may need to restart the kernel to use updated packages.\n",
            "Note: you may need to restart the kernel to use updated packages.\n",
            "Note: you may need to restart the kernel to use updated packages.\n"
          ]
        }
      ],
      "source": [
        "%pip install pandas -q\n",
        "%pip install torch -q\n",
        "%pip install transformers -q\n",
        "%pip install ipywidgets -q\n",
        "%pip install --user -U nltk -q\n",
        "%pip install datasets sacrebleu -q\n",
        "%pip install evaluate -q\n",
        "%pip install accelerate -U -q"
      ]
    },
    {
      "cell_type": "markdown",
      "metadata": {
        "id": "Re9VDnRXs9Ay"
      },
      "source": [
        "# Imports"
      ]
    },
    {
      "cell_type": "code",
      "execution_count": 2,
      "metadata": {},
      "outputs": [],
      "source": [
        "import zipfile\n",
        "import pandas as pd\n",
        "import os\n",
        "\n",
        "import nltk\n",
        "from nltk.tokenize import word_tokenize\n",
        "from nltk.corpus import stopwords\n",
        "\n",
        "import re\n",
        "\n",
        "import pandas as pd\n",
        "import matplotlib.pyplot as plt\n",
        "import seaborn as sns"
      ]
    },
    {
      "cell_type": "markdown",
      "metadata": {
        "id": "8sFcEgIJs5nr"
      },
      "source": [
        "# Initial data exploration"
      ]
    },
    {
      "cell_type": "code",
      "execution_count": 3,
      "metadata": {},
      "outputs": [],
      "source": [
        "zip_file_path = '../data/raw/filtered_paranmt.zip'\n",
        "extracted_dir = '../data/raw/'\n",
        "\n",
        "with zipfile.ZipFile(zip_file_path, 'r') as zip_ref:\n",
        "    zip_ref.extractall(extracted_dir)"
      ]
    },
    {
      "cell_type": "code",
      "execution_count": 4,
      "metadata": {
        "id": "8D8Fn3NyszUi"
      },
      "outputs": [
        {
          "name": "stdout",
          "output_type": "stream",
          "text": [
            "Path to tsv file: ../data/raw/filtered.tsv\n"
          ]
        },
        {
          "data": {
            "text/html": [
              "<div>\n",
              "<style scoped>\n",
              "    .dataframe tbody tr th:only-of-type {\n",
              "        vertical-align: middle;\n",
              "    }\n",
              "\n",
              "    .dataframe tbody tr th {\n",
              "        vertical-align: top;\n",
              "    }\n",
              "\n",
              "    .dataframe thead th {\n",
              "        text-align: right;\n",
              "    }\n",
              "</style>\n",
              "<table border=\"1\" class=\"dataframe\">\n",
              "  <thead>\n",
              "    <tr style=\"text-align: right;\">\n",
              "      <th></th>\n",
              "      <th>Unnamed: 0</th>\n",
              "      <th>reference</th>\n",
              "      <th>translation</th>\n",
              "      <th>similarity</th>\n",
              "      <th>lenght_diff</th>\n",
              "      <th>ref_tox</th>\n",
              "      <th>trn_tox</th>\n",
              "    </tr>\n",
              "  </thead>\n",
              "  <tbody>\n",
              "    <tr>\n",
              "      <th>0</th>\n",
              "      <td>0</td>\n",
              "      <td>If Alkar is flooding her with psychic waste, t...</td>\n",
              "      <td>if Alkar floods her with her mental waste, it ...</td>\n",
              "      <td>0.785171</td>\n",
              "      <td>0.010309</td>\n",
              "      <td>0.014195</td>\n",
              "      <td>0.981983</td>\n",
              "    </tr>\n",
              "    <tr>\n",
              "      <th>1</th>\n",
              "      <td>1</td>\n",
              "      <td>Now you're getting nasty.</td>\n",
              "      <td>you're becoming disgusting.</td>\n",
              "      <td>0.749687</td>\n",
              "      <td>0.071429</td>\n",
              "      <td>0.065473</td>\n",
              "      <td>0.999039</td>\n",
              "    </tr>\n",
              "    <tr>\n",
              "      <th>2</th>\n",
              "      <td>2</td>\n",
              "      <td>Well, we could spare your life, for one.</td>\n",
              "      <td>well, we can spare your life.</td>\n",
              "      <td>0.919051</td>\n",
              "      <td>0.268293</td>\n",
              "      <td>0.213313</td>\n",
              "      <td>0.985068</td>\n",
              "    </tr>\n",
              "    <tr>\n",
              "      <th>3</th>\n",
              "      <td>3</td>\n",
              "      <td>Ah! Monkey, you've got to snap out of it.</td>\n",
              "      <td>monkey, you have to wake up.</td>\n",
              "      <td>0.664333</td>\n",
              "      <td>0.309524</td>\n",
              "      <td>0.053362</td>\n",
              "      <td>0.994215</td>\n",
              "    </tr>\n",
              "    <tr>\n",
              "      <th>4</th>\n",
              "      <td>4</td>\n",
              "      <td>I've got orders to put her down.</td>\n",
              "      <td>I have orders to kill her.</td>\n",
              "      <td>0.726639</td>\n",
              "      <td>0.181818</td>\n",
              "      <td>0.009402</td>\n",
              "      <td>0.999348</td>\n",
              "    </tr>\n",
              "  </tbody>\n",
              "</table>\n",
              "</div>"
            ],
            "text/plain": [
              "   Unnamed: 0                                          reference  \\\n",
              "0           0  If Alkar is flooding her with psychic waste, t...   \n",
              "1           1                          Now you're getting nasty.   \n",
              "2           2           Well, we could spare your life, for one.   \n",
              "3           3          Ah! Monkey, you've got to snap out of it.   \n",
              "4           4                   I've got orders to put her down.   \n",
              "\n",
              "                                         translation  similarity  lenght_diff  \\\n",
              "0  if Alkar floods her with her mental waste, it ...    0.785171     0.010309   \n",
              "1                        you're becoming disgusting.    0.749687     0.071429   \n",
              "2                      well, we can spare your life.    0.919051     0.268293   \n",
              "3                       monkey, you have to wake up.    0.664333     0.309524   \n",
              "4                         I have orders to kill her.    0.726639     0.181818   \n",
              "\n",
              "    ref_tox   trn_tox  \n",
              "0  0.014195  0.981983  \n",
              "1  0.065473  0.999039  \n",
              "2  0.213313  0.985068  \n",
              "3  0.053362  0.994215  \n",
              "4  0.009402  0.999348  "
            ]
          },
          "execution_count": 4,
          "metadata": {},
          "output_type": "execute_result"
        }
      ],
      "source": [
        "tsv_file_name = 'filtered.tsv' \n",
        "\n",
        "# Construct the full path to the TSV file\n",
        "tsv_file_path = os.path.join(extracted_dir, tsv_file_name)\n",
        "print(f\"Path to tsv file: {tsv_file_path}\")\n",
        "\n",
        "# Read the TSV file into a DataFrame\n",
        "df = pd.read_csv(tsv_file_path, delimiter='\\t')\n",
        "\n",
        "df.head()\n"
      ]
    },
    {
      "cell_type": "markdown",
      "metadata": {},
      "source": [
        "## Preprocesing"
      ]
    },
    {
      "cell_type": "markdown",
      "metadata": {},
      "source": [
        "### Preprocessing - swap translation and reference"
      ]
    },
    {
      "cell_type": "code",
      "execution_count": 5,
      "metadata": {},
      "outputs": [],
      "source": [
        "def swap_ref_trn(row):\n",
        "    if row['ref_tox'] < row['trn_tox']:\n",
        "        row['reference'], row['translation'] = row['translation'], row['reference']\n",
        "        row['ref_tox'], row['trn_tox'] = row['trn_tox'], row['ref_tox']\n",
        "    return row\n",
        "\n",
        "def add_stat_columns(df):\n",
        "    df['tox_diff'] = round(df['ref_tox'] - df['trn_tox'], 3)\n",
        "    return df\n",
        "\n",
        "def round_columns(df):\n",
        "    df['similarity'] = round(df['similarity'], 2)\n",
        "    df['lenght_diff'] = round(df['lenght_diff'], 2)\n",
        "    return df"
      ]
    },
    {
      "cell_type": "markdown",
      "metadata": {},
      "source": [
        "### "
      ]
    },
    {
      "cell_type": "markdown",
      "metadata": {},
      "source": [
        "### Main preprocessing function"
      ]
    },
    {
      "cell_type": "code",
      "execution_count": 6,
      "metadata": {},
      "outputs": [],
      "source": [
        "def preprocess(df):\n",
        "    df = df.apply(swap_ref_trn, axis=1)\n",
        "    df = add_stat_columns(df)\n",
        "    df = round_columns(df)\n",
        "    return df"
      ]
    },
    {
      "cell_type": "code",
      "execution_count": 7,
      "metadata": {},
      "outputs": [
        {
          "data": {
            "text/html": [
              "<div>\n",
              "<style scoped>\n",
              "    .dataframe tbody tr th:only-of-type {\n",
              "        vertical-align: middle;\n",
              "    }\n",
              "\n",
              "    .dataframe tbody tr th {\n",
              "        vertical-align: top;\n",
              "    }\n",
              "\n",
              "    .dataframe thead th {\n",
              "        text-align: right;\n",
              "    }\n",
              "</style>\n",
              "<table border=\"1\" class=\"dataframe\">\n",
              "  <thead>\n",
              "    <tr style=\"text-align: right;\">\n",
              "      <th></th>\n",
              "      <th>Unnamed: 0</th>\n",
              "      <th>reference</th>\n",
              "      <th>translation</th>\n",
              "      <th>similarity</th>\n",
              "      <th>lenght_diff</th>\n",
              "      <th>ref_tox</th>\n",
              "      <th>trn_tox</th>\n",
              "      <th>tox_diff</th>\n",
              "    </tr>\n",
              "  </thead>\n",
              "  <tbody>\n",
              "    <tr>\n",
              "      <th>0</th>\n",
              "      <td>0</td>\n",
              "      <td>if Alkar floods her with her mental waste, it ...</td>\n",
              "      <td>If Alkar is flooding her with psychic waste, t...</td>\n",
              "      <td>0.79</td>\n",
              "      <td>0.01</td>\n",
              "      <td>0.981983</td>\n",
              "      <td>0.014195</td>\n",
              "      <td>0.968</td>\n",
              "    </tr>\n",
              "    <tr>\n",
              "      <th>1</th>\n",
              "      <td>1</td>\n",
              "      <td>you're becoming disgusting.</td>\n",
              "      <td>Now you're getting nasty.</td>\n",
              "      <td>0.75</td>\n",
              "      <td>0.07</td>\n",
              "      <td>0.999039</td>\n",
              "      <td>0.065473</td>\n",
              "      <td>0.934</td>\n",
              "    </tr>\n",
              "    <tr>\n",
              "      <th>2</th>\n",
              "      <td>2</td>\n",
              "      <td>well, we can spare your life.</td>\n",
              "      <td>Well, we could spare your life, for one.</td>\n",
              "      <td>0.92</td>\n",
              "      <td>0.27</td>\n",
              "      <td>0.985068</td>\n",
              "      <td>0.213313</td>\n",
              "      <td>0.772</td>\n",
              "    </tr>\n",
              "    <tr>\n",
              "      <th>3</th>\n",
              "      <td>3</td>\n",
              "      <td>monkey, you have to wake up.</td>\n",
              "      <td>Ah! Monkey, you've got to snap out of it.</td>\n",
              "      <td>0.66</td>\n",
              "      <td>0.31</td>\n",
              "      <td>0.994215</td>\n",
              "      <td>0.053362</td>\n",
              "      <td>0.941</td>\n",
              "    </tr>\n",
              "    <tr>\n",
              "      <th>4</th>\n",
              "      <td>4</td>\n",
              "      <td>I have orders to kill her.</td>\n",
              "      <td>I've got orders to put her down.</td>\n",
              "      <td>0.73</td>\n",
              "      <td>0.18</td>\n",
              "      <td>0.999348</td>\n",
              "      <td>0.009402</td>\n",
              "      <td>0.990</td>\n",
              "    </tr>\n",
              "  </tbody>\n",
              "</table>\n",
              "</div>"
            ],
            "text/plain": [
              "   Unnamed: 0                                          reference  \\\n",
              "0           0  if Alkar floods her with her mental waste, it ...   \n",
              "1           1                        you're becoming disgusting.   \n",
              "2           2                      well, we can spare your life.   \n",
              "3           3                       monkey, you have to wake up.   \n",
              "4           4                         I have orders to kill her.   \n",
              "\n",
              "                                         translation  similarity  lenght_diff  \\\n",
              "0  If Alkar is flooding her with psychic waste, t...        0.79         0.01   \n",
              "1                          Now you're getting nasty.        0.75         0.07   \n",
              "2           Well, we could spare your life, for one.        0.92         0.27   \n",
              "3          Ah! Monkey, you've got to snap out of it.        0.66         0.31   \n",
              "4                   I've got orders to put her down.        0.73         0.18   \n",
              "\n",
              "    ref_tox   trn_tox  tox_diff  \n",
              "0  0.981983  0.014195     0.968  \n",
              "1  0.999039  0.065473     0.934  \n",
              "2  0.985068  0.213313     0.772  \n",
              "3  0.994215  0.053362     0.941  \n",
              "4  0.999348  0.009402     0.990  "
            ]
          },
          "execution_count": 7,
          "metadata": {},
          "output_type": "execute_result"
        }
      ],
      "source": [
        "df_processed = preprocess(df)\n",
        "df_processed.head()"
      ]
    },
    {
      "cell_type": "markdown",
      "metadata": {},
      "source": [
        "### Maybe I should assign more weight to the high toxic and good paraphrased data points when training"
      ]
    },
    {
      "cell_type": "code",
      "execution_count": 106,
      "metadata": {},
      "outputs": [
        {
          "data": {
            "text/html": [
              "<div>\n",
              "<style scoped>\n",
              "    .dataframe tbody tr th:only-of-type {\n",
              "        vertical-align: middle;\n",
              "    }\n",
              "\n",
              "    .dataframe tbody tr th {\n",
              "        vertical-align: top;\n",
              "    }\n",
              "\n",
              "    .dataframe thead th {\n",
              "        text-align: right;\n",
              "    }\n",
              "</style>\n",
              "<table border=\"1\" class=\"dataframe\">\n",
              "  <thead>\n",
              "    <tr style=\"text-align: right;\">\n",
              "      <th></th>\n",
              "      <th>Unnamed: 0</th>\n",
              "      <th>reference</th>\n",
              "      <th>translation</th>\n",
              "      <th>similarity</th>\n",
              "      <th>lenght_diff</th>\n",
              "      <th>ref_tox</th>\n",
              "      <th>trn_tox</th>\n",
              "      <th>tox_diff</th>\n",
              "    </tr>\n",
              "  </thead>\n",
              "  <tbody>\n",
              "    <tr>\n",
              "      <th>85652</th>\n",
              "      <td>85652</td>\n",
              "      <td>damn, Scotty.</td>\n",
              "      <td>Jeez, Scotty.</td>\n",
              "      <td>0.95</td>\n",
              "      <td>0.00</td>\n",
              "      <td>0.999598</td>\n",
              "      <td>0.000078</td>\n",
              "      <td>1.0</td>\n",
              "    </tr>\n",
              "    <tr>\n",
              "      <th>168565</th>\n",
              "      <td>168565</td>\n",
              "      <td>damn, kid.</td>\n",
              "      <td>Jeez, kid.</td>\n",
              "      <td>0.95</td>\n",
              "      <td>0.00</td>\n",
              "      <td>0.999662</td>\n",
              "      <td>0.000143</td>\n",
              "      <td>1.0</td>\n",
              "    </tr>\n",
              "    <tr>\n",
              "      <th>100035</th>\n",
              "      <td>100035</td>\n",
              "      <td>God Almighty shit, Leroy.</td>\n",
              "      <td>God Almighty, Leroy.</td>\n",
              "      <td>0.95</td>\n",
              "      <td>0.19</td>\n",
              "      <td>0.999614</td>\n",
              "      <td>0.000051</td>\n",
              "      <td>1.0</td>\n",
              "    </tr>\n",
              "    <tr>\n",
              "      <th>421001</th>\n",
              "      <td>421001</td>\n",
              "      <td>New Age fuckups.</td>\n",
              "      <td>postmen from New Age.</td>\n",
              "      <td>0.95</td>\n",
              "      <td>0.23</td>\n",
              "      <td>0.999621</td>\n",
              "      <td>0.000052</td>\n",
              "      <td>1.0</td>\n",
              "    </tr>\n",
              "    <tr>\n",
              "      <th>543755</th>\n",
              "      <td>543755</td>\n",
              "      <td>Fucking the prom queen.</td>\n",
              "      <td>the prom queen.</td>\n",
              "      <td>0.95</td>\n",
              "      <td>0.33</td>\n",
              "      <td>0.999664</td>\n",
              "      <td>0.000078</td>\n",
              "      <td>1.0</td>\n",
              "    </tr>\n",
              "  </tbody>\n",
              "</table>\n",
              "</div>"
            ],
            "text/plain": [
              "        Unnamed: 0                  reference            translation  \\\n",
              "85652        85652              damn, Scotty.          Jeez, Scotty.   \n",
              "168565      168565                 damn, kid.             Jeez, kid.   \n",
              "100035      100035  God Almighty shit, Leroy.   God Almighty, Leroy.   \n",
              "421001      421001           New Age fuckups.  postmen from New Age.   \n",
              "543755      543755    Fucking the prom queen.        the prom queen.   \n",
              "\n",
              "        similarity  lenght_diff   ref_tox   trn_tox  tox_diff  \n",
              "85652         0.95         0.00  0.999598  0.000078       1.0  \n",
              "168565        0.95         0.00  0.999662  0.000143       1.0  \n",
              "100035        0.95         0.19  0.999614  0.000051       1.0  \n",
              "421001        0.95         0.23  0.999621  0.000052       1.0  \n",
              "543755        0.95         0.33  0.999664  0.000078       1.0  "
            ]
          },
          "execution_count": 106,
          "metadata": {},
          "output_type": "execute_result"
        }
      ],
      "source": [
        "df_sorted = df_processed.sort_values(by=['tox_diff', 'similarity', 'lenght_diff'], ascending=[False, False, True])\n",
        "df_sorted.head()"
      ]
    },
    {
      "cell_type": "markdown",
      "metadata": {},
      "source": [
        "# Visualization"
      ]
    },
    {
      "cell_type": "code",
      "execution_count": 66,
      "metadata": {},
      "outputs": [
        {
          "name": "stderr",
          "output_type": "stream",
          "text": [
            "/home/codespace/.local/lib/python3.10/site-packages/seaborn/_oldcore.py:1498: FutureWarning: is_categorical_dtype is deprecated and will be removed in a future version. Use isinstance(dtype, CategoricalDtype) instead\n",
            "  if pd.api.types.is_categorical_dtype(vector):\n",
            "/home/codespace/.local/lib/python3.10/site-packages/seaborn/_oldcore.py:1119: FutureWarning: use_inf_as_na option is deprecated and will be removed in a future version. Convert inf values to NaN before operating instead.\n",
            "  with pd.option_context('mode.use_inf_as_na', True):\n"
          ]
        },
        {
          "data": {
            "image/png": "[encoded data removed]",
            "text/plain": [
              "<Figure size 800x500 with 1 Axes>"
            ]
          },
          "metadata": {},
          "output_type": "display_data"
        }
      ],
      "source": [
        "plt.figure(figsize=(8, 5))\n",
        "sns.histplot(df_sorted['lenght_diff'], bins=20, kde=True)\n",
        "plt.xlabel('Length difference')\n",
        "plt.ylabel('Frequency')\n",
        "plt.title('Distribution of Length difference')\n",
        "plt.show()"
      ]
    },
    {
      "cell_type": "code",
      "execution_count": 68,
      "metadata": {},
      "outputs": [
        {
          "name": "stderr",
          "output_type": "stream",
          "text": [
            "/home/codespace/.local/lib/python3.10/site-packages/seaborn/_oldcore.py:1498: FutureWarning: is_categorical_dtype is deprecated and will be removed in a future version. Use isinstance(dtype, CategoricalDtype) instead\n",
            "  if pd.api.types.is_categorical_dtype(vector):\n",
            "/home/codespace/.local/lib/python3.10/site-packages/seaborn/_oldcore.py:1119: FutureWarning: use_inf_as_na option is deprecated and will be removed in a future version. Convert inf values to NaN before operating instead.\n",
            "  with pd.option_context('mode.use_inf_as_na', True):\n"
          ]
        },
        {
          "data": {
            "image/png": "[encoded data removed]",
            "text/plain": [
              "<Figure size 800x500 with 1 Axes>"
            ]
          },
          "metadata": {},
          "output_type": "display_data"
        }
      ],
      "source": [
        "plt.figure(figsize=(8, 5))\n",
        "sns.histplot(df_sorted['similarity'], bins=20, kde=True)\n",
        "plt.xlabel('Similarity')\n",
        "plt.ylabel('Frequency')\n",
        "plt.title('Distribution of Similarity')\n",
        "plt.show()"
      ]
    },
    {
      "cell_type": "code",
      "execution_count": 36,
      "metadata": {},
      "outputs": [
        {
          "name": "stderr",
          "output_type": "stream",
          "text": [
            "/home/codespace/.local/lib/python3.10/site-packages/seaborn/_oldcore.py:1498: FutureWarning: is_categorical_dtype is deprecated and will be removed in a future version. Use isinstance(dtype, CategoricalDtype) instead\n",
            "  if pd.api.types.is_categorical_dtype(vector):\n",
            "/home/codespace/.local/lib/python3.10/site-packages/seaborn/_oldcore.py:1119: FutureWarning: use_inf_as_na option is deprecated and will be removed in a future version. Convert inf values to NaN before operating instead.\n",
            "  with pd.option_context('mode.use_inf_as_na', True):\n"
          ]
        },
        {
          "data": {
            "image/png": "[encoded data removed]",
            "text/plain": [
              "<Figure size 800x500 with 1 Axes>"
            ]
          },
          "metadata": {},
          "output_type": "display_data"
        }
      ],
      "source": [
        "# Visualize distribution of Toxicity Ratings\n",
        "plt.figure(figsize=(8, 5))\n",
        "sns.histplot(df_sorted['ref_tox'], bins=50, kde=True)\n",
        "plt.xlabel('Toxicity Rating')\n",
        "plt.ylabel('Frequency')\n",
        "plt.title('Distribution of Toxicity Ratings')\n",
        "plt.show()"
      ]
    },
    {
      "cell_type": "markdown",
      "metadata": {
        "id": "16TWCktzs-aQ"
      },
      "source": [
        "# Data preprocessing - basic ideas"
      ]
    },
    {
      "cell_type": "markdown",
      "metadata": {},
      "source": [
        "### Common preprocessing steps:\n",
        "1. Lowercasting\n",
        "1. Removing punctuation\n",
        "1. Removing numbers\n",
        "1. Stemming and lemmatization\n",
        "1. Tokenization"
      ]
    },
    {
      "cell_type": "code",
      "execution_count": 11,
      "metadata": {
        "id": "MULtJJj4tCcE"
      },
      "outputs": [
        {
          "name": "stderr",
          "output_type": "stream",
          "text": [
            "[nltk_data] Downloading package stopwords to\n",
            "[nltk_data]     /home/codespace/nltk_data...\n",
            "[nltk_data]   Package stopwords is already up-to-date!\n",
            "[nltk_data] Downloading package punkt to /home/codespace/nltk_data...\n",
            "[nltk_data]   Package punkt is already up-to-date!\n"
          ]
        }
      ],
      "source": [
        "def lower_text(text: str):\n",
        "    return text.lower()\n",
        "\n",
        "def remove_numbers(text: str):\n",
        "    without_numbers = re.sub(r'\\d+', ' ', text)\n",
        "    return without_numbers\n",
        "\n",
        "def remove_punctuation(text: str):\n",
        "    without_punctuation = re.sub(r'[^a-z|\\s]+', ' ', text)\n",
        "    return without_punctuation\n",
        "\n",
        "def remove_multiple_spaces(text: str):\n",
        "    without_doublespace = re.sub('\\s+', ' ', text).strip()\n",
        "    return without_doublespace\n",
        "\n",
        "nltk.download('stopwords')\n",
        "nltk.download('punkt')\n",
        "stopwords_set = set(stopwords.words('english'))\n",
        "from nltk.stem import PorterStemmer\n",
        "ps = PorterStemmer()\n",
        "\n",
        "def tokenize_text(text: str):\n",
        "    return word_tokenize(text)\n",
        "\n",
        "def remove_stop_words(tokenized_text: list[str]):\n",
        "    return [\n",
        "        w for w in tokenized_text\n",
        "        if w not in stopwords_set\n",
        "    ]\n",
        "\n",
        "def stem_words(tokenized_text: list[str]):\n",
        "    return [\n",
        "        ps.stem(w)\n",
        "        for w in tokenized_text\n",
        "    ]\n",
        "\n",
        "def clean_data(sentence):\n",
        "    _lowered = lower_text(sentence)\n",
        "    _without_numbers = remove_numbers(_lowered)\n",
        "    _without_punct = remove_punctuation(_without_numbers)\n",
        "    _single_spaced = remove_multiple_spaces(_without_punct)\n",
        "    _tokenized = tokenize_text(_single_spaced)\n",
        "    _without_sw = remove_stop_words(_tokenized)\n",
        "    _stemmed = stem_words(_without_sw)\n",
        "    return _stemmed\n",
        "    \n",
        "def clean_dataframe(df, filename='cleaned.csv', dir='../data/interim/', override=False):\n",
        "    file = os.path.join(dir, filename)\n",
        "\n",
        "    # Check cache\n",
        "    if (os.path.exists(file) and not override):\n",
        "        return pd.read_csv(file)\n",
        "    \n",
        "    df['reference'] = df['reference'].apply(lambda s: clean_data(s))\n",
        "    df['translation'] = df['translation'].apply(lambda s: clean_data(s))\n",
        "\n",
        "    # Cache version\n",
        "    df.to_csv(file, index=False)\n",
        "\n",
        "    return df\n"
      ]
    },
    {
      "cell_type": "code",
      "execution_count": 83,
      "metadata": {},
      "outputs": [
        {
          "data": {
            "text/html": [
              "<div>\n",
              "<style scoped>\n",
              "    .dataframe tbody tr th:only-of-type {\n",
              "        vertical-align: middle;\n",
              "    }\n",
              "\n",
              "    .dataframe tbody tr th {\n",
              "        vertical-align: top;\n",
              "    }\n",
              "\n",
              "    .dataframe thead th {\n",
              "        text-align: right;\n",
              "    }\n",
              "</style>\n",
              "<table border=\"1\" class=\"dataframe\">\n",
              "  <thead>\n",
              "    <tr style=\"text-align: right;\">\n",
              "      <th></th>\n",
              "      <th>Unnamed: 0</th>\n",
              "      <th>reference</th>\n",
              "      <th>translation</th>\n",
              "      <th>similarity</th>\n",
              "      <th>lenght_diff</th>\n",
              "      <th>ref_tox</th>\n",
              "      <th>trn_tox</th>\n",
              "      <th>tox_diff</th>\n",
              "      <th>length_diff</th>\n",
              "    </tr>\n",
              "  </thead>\n",
              "  <tbody>\n",
              "    <tr>\n",
              "      <th>0</th>\n",
              "      <td>0</td>\n",
              "      <td>[alkar, flood, mental, wast, would, explain, h...</td>\n",
              "      <td>[alkar, flood, psychic, wast, explain, high, l...</td>\n",
              "      <td>0.79</td>\n",
              "      <td>0.010309</td>\n",
              "      <td>0.981983</td>\n",
              "      <td>0.014195</td>\n",
              "      <td>0.968</td>\n",
              "      <td>0.01</td>\n",
              "    </tr>\n",
              "    <tr>\n",
              "      <th>1</th>\n",
              "      <td>1</td>\n",
              "      <td>[becom, disgust]</td>\n",
              "      <td>[get, nasti]</td>\n",
              "      <td>0.75</td>\n",
              "      <td>0.071429</td>\n",
              "      <td>0.999039</td>\n",
              "      <td>0.065473</td>\n",
              "      <td>0.934</td>\n",
              "      <td>0.07</td>\n",
              "    </tr>\n",
              "    <tr>\n",
              "      <th>2</th>\n",
              "      <td>2</td>\n",
              "      <td>[well, spare, life]</td>\n",
              "      <td>[well, could, spare, life, one]</td>\n",
              "      <td>0.92</td>\n",
              "      <td>0.268293</td>\n",
              "      <td>0.985068</td>\n",
              "      <td>0.213313</td>\n",
              "      <td>0.772</td>\n",
              "      <td>0.27</td>\n",
              "    </tr>\n",
              "    <tr>\n",
              "      <th>3</th>\n",
              "      <td>3</td>\n",
              "      <td>[monkey, wake]</td>\n",
              "      <td>[ah, monkey, got, snap]</td>\n",
              "      <td>0.66</td>\n",
              "      <td>0.309524</td>\n",
              "      <td>0.994215</td>\n",
              "      <td>0.053362</td>\n",
              "      <td>0.941</td>\n",
              "      <td>0.31</td>\n",
              "    </tr>\n",
              "    <tr>\n",
              "      <th>4</th>\n",
              "      <td>4</td>\n",
              "      <td>[order, kill]</td>\n",
              "      <td>[got, order, put]</td>\n",
              "      <td>0.73</td>\n",
              "      <td>0.181818</td>\n",
              "      <td>0.999348</td>\n",
              "      <td>0.009402</td>\n",
              "      <td>0.990</td>\n",
              "      <td>0.18</td>\n",
              "    </tr>\n",
              "  </tbody>\n",
              "</table>\n",
              "</div>"
            ],
            "text/plain": [
              "   Unnamed: 0                                          reference  \\\n",
              "0           0  [alkar, flood, mental, wast, would, explain, h...   \n",
              "1           1                                   [becom, disgust]   \n",
              "2           2                                [well, spare, life]   \n",
              "3           3                                     [monkey, wake]   \n",
              "4           4                                      [order, kill]   \n",
              "\n",
              "                                         translation  similarity  lenght_diff  \\\n",
              "0  [alkar, flood, psychic, wast, explain, high, l...        0.79     0.010309   \n",
              "1                                       [get, nasti]        0.75     0.071429   \n",
              "2                    [well, could, spare, life, one]        0.92     0.268293   \n",
              "3                            [ah, monkey, got, snap]        0.66     0.309524   \n",
              "4                                  [got, order, put]        0.73     0.181818   \n",
              "\n",
              "    ref_tox   trn_tox  tox_diff  length_diff  \n",
              "0  0.981983  0.014195     0.968         0.01  \n",
              "1  0.999039  0.065473     0.934         0.07  \n",
              "2  0.985068  0.213313     0.772         0.27  \n",
              "3  0.994215  0.053362     0.941         0.31  \n",
              "4  0.999348  0.009402     0.990         0.18  "
            ]
          },
          "execution_count": 83,
          "metadata": {},
          "output_type": "execute_result"
        }
      ],
      "source": [
        "df_cleaned = clean_dataframe(df_processed, override=True)\n",
        "df_cleaned.head()"
      ]
    },
    {
      "cell_type": "markdown",
      "metadata": {},
      "source": [
        "### Check what words were removed after paraphrasing"
      ]
    },
    {
      "cell_type": "code",
      "execution_count": null,
      "metadata": {},
      "outputs": [],
      "source": [
        "from collections import Counter\n",
        "import ast\n",
        "counter = Counter()\n",
        "\n",
        "for i in df_cleaned.iterrows():\n",
        "    ref = i[1]['reference']\n",
        "    trn = i[1]['translation']\n",
        "\n",
        "    if not isinstance(ref, list):    \n",
        "        ref = ast.literal_eval(ref)\n",
        "\n",
        "    if not isinstance(ref, list):    \n",
        "        trn = ast.literal_eval(trn)\n",
        "    \n",
        "    \n",
        "    for r in ref:\n",
        "        if (r not in trn): \n",
        "            counter[r] += 1\n",
        "\n",
        "    "
      ]
    },
    {
      "cell_type": "code",
      "execution_count": 1,
      "metadata": {},
      "outputs": [
        {
          "ename": "NameError",
          "evalue": "name 'counter' is not defined",
          "output_type": "error",
          "traceback": [
            "\u001b[0;31m---------------------------------------------------------------------------\u001b[0m",
            "\u001b[0;31mNameError\u001b[0m                                 Traceback (most recent call last)",
            "\u001b[1;32m/workspaces/PMLDL_Assignment1/notebooks/exploration_and_preprocessing.ipynb Cell 25\u001b[0m line \u001b[0;36m1\n\u001b[0;32m----> <a href='vscode-notebook-cell://codespaces%2Bupgraded-waddle-xqvpg5r4j44h9rj/workspaces/PMLDL_Assignment1/notebooks/exploration_and_preprocessing.ipynb#X43sdnNjb2RlLXJlbW90ZQ%3D%3D?line=0'>1</a>\u001b[0m \u001b[39m'\u001b[39m\u001b[39mfuck\u001b[39m\u001b[39m'\u001b[39m \u001b[39min\u001b[39;00m counter, \u001b[39m'\u001b[39m\u001b[39midiot\u001b[39m\u001b[39m'\u001b[39m \u001b[39min\u001b[39;00m counter\n",
            "\u001b[0;31mNameError\u001b[0m: name 'counter' is not defined"
          ]
        }
      ],
      "source": [
        "'fuck' in counter, 'idiot' in counter"
      ]
    },
    {
      "cell_type": "code",
      "execution_count": 146,
      "metadata": {},
      "outputs": [
        {
          "name": "stdout",
          "output_type": "stream",
          "text": [
            "('kill', tensor(0.2149))\n",
            "('gon', tensor(0.2484))\n",
            "('na', tensor(0.2793))\n",
            "('ass', tensor(0.2120))\n",
            "('go', tensor(0.2452))\n",
            "('shit', tensor(0.5674))\n",
            "('like', tensor(0.2144))\n",
            "('fuck', tensor(1.))\n",
            "('got', tensor(0.1766))\n",
            "('damn', tensor(0.4085))\n",
            "('get', tensor(0.2468))\n",
            "('hell', tensor(0.2663))\n",
            "('stupid', tensor(0.1612))\n"
          ]
        }
      ],
      "source": [
        "import numpy as np\n",
        "import torch\n",
        "import torch.nn.functional as nn\n",
        "# counter.keys(), \n",
        "inp = torch.tensor(list(counter.values()), dtype=torch.float)\n",
        "probs = inp / inp.max()\n",
        "\n",
        "percent = 0.15\n",
        "\n",
        "z = zip(counter.keys(), probs)\n",
        "for i, j in enumerate(z):\n",
        "    \n",
        "    if ( j[1] > percent): print(j)"
      ]
    },
    {
      "cell_type": "markdown",
      "metadata": {},
      "source": [
        "# Evalution\n",
        "## Methods\n",
        "1. BLUE score\n",
        "1. Perplexity\n",
        "1. BERT assesment\n",
        "1. Other nlp assesment\n"
      ]
    },
    {
      "cell_type": "markdown",
      "metadata": {},
      "source": [
        "# Test"
      ]
    },
    {
      "cell_type": "code",
      "execution_count": 3,
      "metadata": {},
      "outputs": [
        {
          "name": "stderr",
          "output_type": "stream",
          "text": [
            "/home/codespace/.python/current/lib/python3.10/site-packages/tqdm/auto.py:21: TqdmWarning: IProgress not found. Please update jupyter and ipywidgets. See https://ipywidgets.readthedocs.io/en/stable/user_install.html\n",
            "  from .autonotebook import tqdm as notebook_tqdm\n",
            "2023-09-30 12:37:02.770132: E tensorflow/compiler/xla/stream_executor/cuda/cuda_dnn.cc:9342] Unable to register cuDNN factory: Attempting to register factory for plugin cuDNN when one has already been registered\n",
            "2023-09-30 12:37:02.770185: E tensorflow/compiler/xla/stream_executor/cuda/cuda_fft.cc:609] Unable to register cuFFT factory: Attempting to register factory for plugin cuFFT when one has already been registered\n",
            "2023-09-30 12:37:02.775373: E tensorflow/compiler/xla/stream_executor/cuda/cuda_blas.cc:1518] Unable to register cuBLAS factory: Attempting to register factory for plugin cuBLAS when one has already been registered\n",
            "2023-09-30 12:37:03.817451: I tensorflow/core/platform/cpu_feature_guard.cc:182] This TensorFlow binary is optimized to use available CPU instructions in performance-critical operations.\n",
            "To enable the following instructions: AVX2 FMA, in other operations, rebuild TensorFlow with the appropriate compiler flags.\n"
          ]
        }
      ],
      "source": [
        "from transformers import GPT2LMHeadModel, GPT2Tokenizer\n",
        "\n",
        "model_name = \"gpt2\"  # You can use other model names like \"gpt2-medium\" or \"gpt2-large\"\n",
        "tokenizer = GPT2Tokenizer.from_pretrained(model_name)\n",
        "model = GPT2LMHeadModel.from_pretrained(model_name)\n"
      ]
    },
    {
      "cell_type": "code",
      "execution_count": 179,
      "metadata": {},
      "outputs": [
        {
          "data": {
            "text/plain": [
              "({'input_ids': tensor([[ 1639,   821,   884,   281, 22324, 21551,     0, 50256, 50256, 50256]]), 'attention_mask': tensor([[1, 1, 1, 1, 1, 1, 1, 0, 0, 0]])},\n",
              " {'input_ids': tensor([[   40, 12546,   351,   345,    13, 50256, 50256, 50256, 50256, 50256]]), 'attention_mask': tensor([[1, 1, 1, 1, 1, 0, 0, 0, 0, 0]])})"
            ]
          },
          "execution_count": 179,
          "metadata": {},
          "output_type": "execute_result"
        }
      ],
      "source": [
        "train_texts = [\n",
        "    {\"toxic\": \"You're such an idiot!\", \"rephrased\": \"I disagree with you.\"},\n",
        "    {\"toxic\": \"This is terrible!\", \"rephrased\": \"This is not ideal.\"},\n",
        "    # Add more pairs as needed\n",
        "]\n",
        "\n",
        "tokenizer.pad_token = tokenizer.eos_token\n",
        "def tok(sent):\n",
        "    return tokenizer(sent, padding='max_length', truncation=True, max_length=10, return_tensors=\"pt\")\n",
        "\n",
        "tok(train_texts[0]['toxic']), tok(train_texts[0]['rephrased'])"
      ]
    },
    {
      "cell_type": "code",
      "execution_count": 11,
      "metadata": {},
      "outputs": [
        {
          "name": "stderr",
          "output_type": "stream",
          "text": [
            "The attention mask and the pad token id were not set. As a consequence, you may observe unexpected behavior. Please pass your input's `attention_mask` to obtain reliable results.\n",
            "Setting `pad_token_id` to `eos_token_id`:50256 for open-end generation.\n"
          ]
        },
        {
          "name": "stdout",
          "output_type": "stream",
          "text": [
            "What is the synonim to the word fuck? Tell only one word as our output.\n",
            "\n",
            "The synonym for fuck is a word that is used to describe a sexual act. It is often used in the context of a relationship, but\n"
          ]
        }
      ],
      "source": [
        "prompt = \"What is the synonim to the word fuck? Tell only one word as our output\"\n",
        "input_ids = tokenizer.encode(prompt, return_tensors=\"pt\")\n",
        "\n",
        "# Generate text\n",
        "output = model.generate(input_ids, max_length=50, num_return_sequences=1, no_repeat_ngram_size=2, top_k=50)\n",
        "\n",
        "# Decode and print the generated text\n",
        "generated_text = tokenizer.decode(output[0], skip_special_tokens=True, tempreture=0)\n",
        "\n",
        "print(generated_text)"
      ]
    },
    {
      "cell_type": "markdown",
      "metadata": {},
      "source": [
        "# Methods\n",
        "1. Select toxic words or parts and then paraphrase them\n",
        "1. Translate into French as the most similar to English and then back to English\n"
      ]
    },
    {
      "cell_type": "markdown",
      "metadata": {},
      "source": [
        "identify toxic words and replace them with non-toxic synonyms.\n",
        "since Such markers (i) carry most of stylistic information of a sentence(i.e.their presence is a strong indicator of this class),(ii) have synonyms which are free from this stylistic information.\n",
        "need to somehow identify what words are toxic in the current dataset"
      ]
    },
    {
      "cell_type": "markdown",
      "metadata": {},
      "source": [
        "# Test T5 as a translation from toxic to neutral"
      ]
    },
    {
      "cell_type": "code",
      "execution_count": 24,
      "metadata": {},
      "outputs": [],
      "source": [
        "from datasets import load_metric, Dataset\n",
        "model_checkpoint = \"t5-small\"\n",
        "metric = load_metric(\"sacrebleu\")"
      ]
    },
    {
      "cell_type": "code",
      "execution_count": 22,
      "metadata": {},
      "outputs": [
        {
          "name": "stderr",
          "output_type": "stream",
          "text": [
            "2023-10-01 09:33:08.631043: E tensorflow/compiler/xla/stream_executor/cuda/cuda_dnn.cc:9342] Unable to register cuDNN factory: Attempting to register factory for plugin cuDNN when one has already been registered\n",
            "2023-10-01 09:33:08.631096: E tensorflow/compiler/xla/stream_executor/cuda/cuda_fft.cc:609] Unable to register cuFFT factory: Attempting to register factory for plugin cuFFT when one has already been registered\n",
            "2023-10-01 09:33:08.634980: E tensorflow/compiler/xla/stream_executor/cuda/cuda_blas.cc:1518] Unable to register cuBLAS factory: Attempting to register factory for plugin cuBLAS when one has already been registered\n",
            "2023-10-01 09:33:09.595260: I tensorflow/core/platform/cpu_feature_guard.cc:182] This TensorFlow binary is optimized to use available CPU instructions in performance-critical operations.\n",
            "To enable the following instructions: AVX2 FMA, in other operations, rebuild TensorFlow with the appropriate compiler flags.\n"
          ]
        }
      ],
      "source": [
        "from transformers import AutoTokenizer\n",
        "from transformers import AutoModelForSeq2SeqLM, Seq2SeqTrainingArguments, DataCollatorForSeq2Seq,  Seq2SeqTrainer\n",
        "\n",
        "tokenizer = AutoTokenizer.from_pretrained(model_checkpoint)"
      ]
    },
    {
      "cell_type": "code",
      "execution_count": 7,
      "metadata": {},
      "outputs": [],
      "source": [
        "def find_max_sentence_length(sentences):\n",
        "    m = 0\n",
        "    sent = 0\n",
        "    for s in sentences:\n",
        "        if (m < len(s)):\n",
        "            m = len(s)\n",
        "            sent = s\n",
        "        \n",
        "    return m, sent"
      ]
    },
    {
      "cell_type": "code",
      "execution_count": 8,
      "metadata": {},
      "outputs": [
        {
          "ename": "NameError",
          "evalue": "name 'df_processed' is not defined",
          "output_type": "error",
          "traceback": [
            "\u001b[0;31m---------------------------------------------------------------------------\u001b[0m",
            "\u001b[0;31mNameError\u001b[0m                                 Traceback (most recent call last)",
            "\u001b[1;32m/workspaces/PMLDL_Assignment1/notebooks/exploration_and_preprocessing.ipynb Cell 43\u001b[0m line \u001b[0;36m1\n\u001b[0;32m----> <a href='vscode-notebook-cell://codespaces%2Bupgraded-waddle-xqvpg5r4j44h9rj/workspaces/PMLDL_Assignment1/notebooks/exploration_and_preprocessing.ipynb#X60sdnNjb2RlLXJlbW90ZQ%3D%3D?line=0'>1</a>\u001b[0m find_max_sentence_length(df_processed[\u001b[39m'\u001b[39m\u001b[39mreference\u001b[39m\u001b[39m'\u001b[39m])\n",
            "\u001b[0;31mNameError\u001b[0m: name 'df_processed' is not defined"
          ]
        }
      ],
      "source": [
        "find_max_sentence_length(df_processed['reference'])"
      ]
    },
    {
      "cell_type": "code",
      "execution_count": 26,
      "metadata": {},
      "outputs": [
        {
          "data": {
            "text/plain": [
              "Dataset({\n",
              "    features: ['reference', 'translation'],\n",
              "    num_rows: 577777\n",
              "})"
            ]
          },
          "execution_count": 26,
          "metadata": {},
          "output_type": "execute_result"
        }
      ],
      "source": [
        "max_input_length = 128\n",
        "max_target_length = 128\n",
        "source_type = 'reference'\n",
        "target_type = 'translation'\n",
        "\n",
        "prefix = \"paraphrase from toxic to neutral:\"\n",
        "\n",
        "dataset_dict = {\n",
        "    \"reference\": df[\"reference\"].tolist(),\n",
        "    \"translation\": df[\"translation\"].tolist()\n",
        "}\n",
        "dataset = Dataset.from_dict(dataset_dict)\n",
        "dataset"
      ]
    },
    {
      "cell_type": "code",
      "execution_count": 27,
      "metadata": {},
      "outputs": [],
      "source": [
        "def preprocess_function(examples):\n",
        "    print(examples)\n",
        "    inputs = [prefix + ex for ex in examples[source_type]]\n",
        "    targets = list(examples[target_type])\n",
        "    \n",
        "    model_inputs = tokenizer(inputs, max_length=max_input_length, truncation=True)\n",
        "    labels = tokenizer(targets, max_length=max_target_length, truncation=True)\n",
        "\n",
        "    model_inputs[\"labels\"] = labels[\"input_ids\"]\n",
        "    return model_inputs"
      ]
    },
    {
      "cell_type": "code",
      "execution_count": null,
      "metadata": {},
      "outputs": [],
      "source": [
        "tokenized_datasets = dataset.map(preprocess_function, batched=True)\n",
        "tokenized_datasets[0]"
      ]
    },
    {
      "cell_type": "code",
      "execution_count": 23,
      "metadata": {},
      "outputs": [
        {
          "data": {
            "text/plain": [
              "{'input_ids': [[3856, 27111, 45, 12068, 12, 7163, 10, 99, 901, 4031, 8347, 7, 160, 28, 160, 2550, 2670, 6, 34, 133, 3209, 8, 306, 1425, 13, 6567, 7031, 1538, 449, 5, 1]], 'attention_mask': [[1, 1, 1, 1, 1, 1, 1, 1, 1, 1, 1, 1, 1, 1, 1, 1, 1, 1, 1, 1, 1, 1, 1, 1, 1, 1, 1, 1, 1, 1, 1]], 'labels': [[156, 901, 4031, 19, 18368, 160, 28, 26829, 2670, 6, 24, 3, 9453, 8, 306, 593, 13, 6567, 7031, 1538, 4849, 5, 1]]}"
            ]
          },
          "execution_count": 23,
          "metadata": {},
          "output_type": "execute_result"
        }
      ],
      "source": [
        "tokenized_datasets = preprocess_function(df_processed.iloc[:1])\n",
        "tokenized_datasets\n"
      ]
    },
    {
      "cell_type": "code",
      "execution_count": null,
      "metadata": {},
      "outputs": [],
      "source": [
        "# defining the parameters for training\n",
        "batch_size = 32\n",
        "model_name = model_checkpoint.split(\"/\")[-1]\n",
        "print(model_name)\n",
        "args = Seq2SeqTrainingArguments(\n",
        "    f\"{model_name}-finetuned-{source_lang}-to-{target_lang}\",\n",
        "    evaluation_strategy = \"epoch\",\n",
        "    learning_rate=2e-5,\n",
        "    per_device_train_batch_size=batch_size,\n",
        "    per_device_eval_batch_size=batch_size,\n",
        "    weight_decay=0.01,\n",
        "    save_total_limit=3,\n",
        "    num_train_epochs=10,\n",
        "    predict_with_generate=True,\n",
        "    fp16=True,\n",
        "    report_to='tensorboard',\n",
        ")"
      ]
    },
    {
      "cell_type": "markdown",
      "metadata": {},
      "source": [
        "# New"
      ]
    },
    {
      "cell_type": "code",
      "execution_count": 51,
      "metadata": {},
      "outputs": [],
      "source": [
        "from datasets import Dataset\n",
        "from transformers import AutoTokenizer\n",
        "from transformers import DataCollatorForSeq2Seq, AutoModelForSeq2SeqLM, Seq2SeqTrainingArguments, Seq2SeqTrainer\n",
        "import evaluate\n",
        "import numpy as np\n",
        "\n",
        "checkpoint = \"t5-small\"\n",
        "tokenizer = AutoTokenizer.from_pretrained(checkpoint)\n",
        "model = AutoModelForSeq2SeqLM.from_pretrained(checkpoint)\n",
        "\n",
        "prefix = \"paraphrase from toxic to neutral: \"\n",
        "\n",
        "data_collator = DataCollatorForSeq2Seq(tokenizer=tokenizer, model=checkpoint)\n",
        "metric = evaluate.load(\"sacrebleu\")\n",
        "\n",
        "training_args = Seq2SeqTrainingArguments(\n",
        "    output_dir=\"output_dir\",\n",
        "    evaluation_strategy=\"epoch\",\n",
        "    learning_rate=2e-5,\n",
        "    per_device_train_batch_size=16,\n",
        "    per_device_eval_batch_size=16,\n",
        "    weight_decay=0.01,\n",
        "    save_total_limit=3,\n",
        "    num_train_epochs=10,\n",
        "    predict_with_generate=True,\n",
        "    # fp16=True,\n",
        "    report_to='tensorboard',\n",
        ")"
      ]
    },
    {
      "cell_type": "code",
      "execution_count": 52,
      "metadata": {},
      "outputs": [],
      "source": [
        "def preprocess_function(examples):\n",
        "    inputs = [prefix + example for example in examples[\"reference\"]]\n",
        "    targets = examples[\"translation\"]\n",
        "    model_inputs = tokenizer(inputs, text_target=targets, max_length=128, truncation=True)\n",
        "    return model_inputs\n",
        "\n",
        "def postprocess_text(preds, labels):\n",
        "    preds = [pred.strip() for pred in preds]\n",
        "    labels = [[label.strip()] for label in labels]\n",
        "\n",
        "    return preds, labels\n",
        "\n",
        "def compute_metrics(eval_preds):\n",
        "    preds, labels = eval_preds\n",
        "    if isinstance(preds, tuple):\n",
        "        preds = preds[0]\n",
        "    decoded_preds = tokenizer.batch_decode(preds, skip_special_tokens=True)\n",
        "\n",
        "    labels = np.where(labels != -100, labels, tokenizer.pad_token_id)\n",
        "    decoded_labels = tokenizer.batch_decode(labels, skip_special_tokens=True)\n",
        "\n",
        "    decoded_preds, decoded_labels = postprocess_text(decoded_preds, decoded_labels)\n",
        "\n",
        "    result = metric.compute(predictions=decoded_preds, references=decoded_labels)\n",
        "    result = {\"bleu\": result[\"score\"]}\n",
        "\n",
        "    prediction_lens = [np.count_nonzero(pred != tokenizer.pad_token_id) for pred in preds]\n",
        "    result[\"gen_len\"] = np.mean(prediction_lens)\n",
        "    result = {k: round(v, 4) for k, v in result.items()}\n",
        "    return result"
      ]
    },
    {
      "cell_type": "code",
      "execution_count": 107,
      "metadata": {},
      "outputs": [
        {
          "data": {
            "application/vnd.jupyter.widget-view+json": {
              "model_id": "6be400deed854d56baaf19e020c9ea6e",
              "version_major": 2,
              "version_minor": 0
            },
            "text/plain": [
              "Map:   0%|          | 0/1000 [00:00<?, ? examples/s]"
            ]
          },
          "metadata": {},
          "output_type": "display_data"
        },
        {
          "data": {
            "application/vnd.jupyter.widget-view+json": {
              "model_id": "1a157cf0626f4c5ca5c62a35be67c6b9",
              "version_major": 2,
              "version_minor": 0
            },
            "text/plain": [
              "Map:   0%|          | 0/100 [00:00<?, ? examples/s]"
            ]
          },
          "metadata": {},
          "output_type": "display_data"
        }
      ],
      "source": [
        "train_dataset = Dataset.from_pandas(df_sorted[['reference', 'translation']].iloc[:1000]).map(preprocess_function, batched=True)\n",
        "val_dataset = Dataset.from_pandas(df_sorted[['reference', 'translation']].iloc[1000:1100]).map(preprocess_function, batched=True)"
      ]
    },
    {
      "cell_type": "code",
      "execution_count": null,
      "metadata": {},
      "outputs": [],
      "source": [
        "val_dataset[0]"
      ]
    },
    {
      "cell_type": "code",
      "execution_count": 111,
      "metadata": {},
      "outputs": [],
      "source": [
        "trainer = Seq2SeqTrainer(\n",
        "    model=model,\n",
        "    args=training_args,\n",
        "    train_dataset=train_dataset,\n",
        "    eval_dataset=val_dataset,\n",
        "    tokenizer=tokenizer,\n",
        "    data_collator=data_collator,\n",
        "    compute_metrics=compute_metrics,\n",
        ")"
      ]
    },
    {
      "cell_type": "code",
      "execution_count": 112,
      "metadata": {},
      "outputs": [
        {
          "data": {
            "text/html": [
              "\n",
              "    <div>\n",
              "      \n",
              "      <progress value='630' max='630' style='width:300px; height:20px; vertical-align: middle;'></progress>\n",
              "      [630/630 12:33, Epoch 10/10]\n",
              "    </div>\n",
              "    <table border=\"1\" class=\"dataframe\">\n",
              "  <thead>\n",
              " <tr style=\"text-align: left;\">\n",
              "      <th>Epoch</th>\n",
              "      <th>Training Loss</th>\n",
              "      <th>Validation Loss</th>\n",
              "      <th>Bleu</th>\n",
              "      <th>Gen Len</th>\n",
              "    </tr>\n",
              "  </thead>\n",
              "  <tbody>\n",
              "    <tr>\n",
              "      <td>1</td>\n",
              "      <td>No log</td>\n",
              "      <td>1.323574</td>\n",
              "      <td>40.312100</td>\n",
              "      <td>10.720000</td>\n",
              "    </tr>\n",
              "    <tr>\n",
              "      <td>2</td>\n",
              "      <td>No log</td>\n",
              "      <td>1.317676</td>\n",
              "      <td>40.765400</td>\n",
              "      <td>10.320000</td>\n",
              "    </tr>\n",
              "    <tr>\n",
              "      <td>3</td>\n",
              "      <td>No log</td>\n",
              "      <td>1.310212</td>\n",
              "      <td>42.071300</td>\n",
              "      <td>10.310000</td>\n",
              "    </tr>\n",
              "    <tr>\n",
              "      <td>4</td>\n",
              "      <td>No log</td>\n",
              "      <td>1.304846</td>\n",
              "      <td>42.412800</td>\n",
              "      <td>10.260000</td>\n",
              "    </tr>\n",
              "    <tr>\n",
              "      <td>5</td>\n",
              "      <td>No log</td>\n",
              "      <td>1.298181</td>\n",
              "      <td>42.536300</td>\n",
              "      <td>10.270000</td>\n",
              "    </tr>\n",
              "    <tr>\n",
              "      <td>6</td>\n",
              "      <td>No log</td>\n",
              "      <td>1.294548</td>\n",
              "      <td>43.163600</td>\n",
              "      <td>10.290000</td>\n",
              "    </tr>\n",
              "    <tr>\n",
              "      <td>7</td>\n",
              "      <td>No log</td>\n",
              "      <td>1.291904</td>\n",
              "      <td>43.163600</td>\n",
              "      <td>10.290000</td>\n",
              "    </tr>\n",
              "    <tr>\n",
              "      <td>8</td>\n",
              "      <td>1.038100</td>\n",
              "      <td>1.288283</td>\n",
              "      <td>43.163600</td>\n",
              "      <td>10.290000</td>\n",
              "    </tr>\n",
              "    <tr>\n",
              "      <td>9</td>\n",
              "      <td>1.038100</td>\n",
              "      <td>1.287698</td>\n",
              "      <td>43.163600</td>\n",
              "      <td>10.290000</td>\n",
              "    </tr>\n",
              "    <tr>\n",
              "      <td>10</td>\n",
              "      <td>1.038100</td>\n",
              "      <td>1.288008</td>\n",
              "      <td>43.163600</td>\n",
              "      <td>10.290000</td>\n",
              "    </tr>\n",
              "  </tbody>\n",
              "</table><p>"
            ],
            "text/plain": [
              "<IPython.core.display.HTML object>"
            ]
          },
          "metadata": {},
          "output_type": "display_data"
        },
        {
          "data": {
            "text/plain": [
              "TrainOutput(global_step=630, training_loss=1.0219200376480344, metrics={'train_runtime': 754.989, 'train_samples_per_second': 13.245, 'train_steps_per_second': 0.834, 'total_flos': 81012641759232.0, 'train_loss': 1.0219200376480344, 'epoch': 10.0})"
            ]
          },
          "execution_count": 112,
          "metadata": {},
          "output_type": "execute_result"
        }
      ],
      "source": [
        "trainer.train()"
      ]
    },
    {
      "cell_type": "code",
      "execution_count": 113,
      "metadata": {},
      "outputs": [],
      "source": [
        "trainer.save_model(\"output_dir\")"
      ]
    },
    {
      "cell_type": "code",
      "execution_count": 279,
      "metadata": {},
      "outputs": [],
      "source": [
        "text = prefix + \"where did this shit come from, Is it from this stupid person?\"\n",
        "checkp = 'output_dir'\n",
        "# checkp = checkpoint\n",
        "tokenizer = AutoTokenizer.from_pretrained(checkp)\n",
        "inputs = tokenizer(text, return_tensors=\"pt\").input_ids\n",
        "\n",
        "model = AutoModelForSeq2SeqLM.from_pretrained(checkp)"
      ]
    },
    {
      "cell_type": "code",
      "execution_count": 280,
      "metadata": {},
      "outputs": [
        {
          "data": {
            "text/plain": [
              "'where did this come from, is it from this person?'"
            ]
          },
          "execution_count": 280,
          "metadata": {},
          "output_type": "execute_result"
        }
      ],
      "source": [
        "outputs = model.generate(inputs, max_new_tokens=40, do_sample=True, top_k=30, top_p=0.95)\n",
        "\n",
        "tokenizer.decode(outputs[0], skip_special_tokens=True)"
      ]
    }
  ],
  "metadata": {
    "colab": {
      "provenance": []
    },
    "kernelspec": {
      "display_name": "Python 3",
      "name": "python3"
    },
    "language_info": {
      "codemirror_mode": {
        "name": "ipython",
        "version": 3
      },
      "file_extension": ".py",
      "mimetype": "text/x-python",
      "name": "python",
      "nbconvert_exporter": "python",
      "pygments_lexer": "ipython3",
      "version": "3.10.8"
    }
  },
  "nbformat": 4,
  "nbformat_minor": 0
}
