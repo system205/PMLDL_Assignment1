{
  "cells": [
    {
      "cell_type": "markdown",
      "metadata": {},
      "source": [
        "# Install requirements"
      ]
    },
    {
      "cell_type": "code",
      "execution_count": 21,
      "metadata": {},
      "outputs": [],
      "source": [
        "root='../'\n",
        "project_path='/workspaces/PMLDL_Assignment1'\n",
        "!pip install -r ../requirements.txt"
      ]
    },
    {
      "cell_type": "code",
      "execution_count": null,
      "metadata": {},
      "outputs": [],
      "source": [
        "%pip install pandas -q\n",
        "%pip install torch -q\n",
        "%pip install transformers -q\n",
        "%pip install ipywidgets -q\n",
        "%pip install --user -U nltk -q\n",
        "%pip install datasets sacrebleu -q\n",
        "%pip install evaluate -q\n",
        "%pip install accelerate -U -q"
      ]
    },
    {
      "cell_type": "markdown",
      "metadata": {},
      "source": [
        "# Prepare data"
      ]
    },
    {
      "cell_type": "markdown",
      "metadata": {},
      "source": [
        "### Preprocess"
      ]
    },
    {
      "cell_type": "code",
      "execution_count": 4,
      "metadata": {},
      "outputs": [
        {
          "name": "stdout",
          "output_type": "stream",
          "text": [
            "[nltk_data] Downloading package stopwords to\n",
            "[nltk_data]     /home/codespace/nltk_data...\n",
            "[nltk_data]   Package stopwords is already up-to-date!\n",
            "[nltk_data] Downloading package punkt to /home/codespace/nltk_data...\n",
            "[nltk_data]   Package punkt is already up-to-date!\n",
            "577760\n"
          ]
        }
      ],
      "source": [
        "!python {root}/src/data/preprocess_dataset.py --root={root}"
      ]
    },
    {
      "cell_type": "markdown",
      "metadata": {},
      "source": [
        "### Filter and split on train and validate"
      ]
    },
    {
      "cell_type": "code",
      "execution_count": 24,
      "metadata": {},
      "outputs": [],
      "source": [
        "!python ../src/models/filter_split_train_val.py --root=../"
      ]
    },
    {
      "cell_type": "markdown",
      "metadata": {},
      "source": [
        "# Test simple models - hypothesis"
      ]
    },
    {
      "cell_type": "markdown",
      "metadata": {},
      "source": [
        "## Test baseline model to compare all other metrics with"
      ]
    },
    {
      "cell_type": "markdown",
      "metadata": {},
      "source": [
        "### Initial dataset"
      ]
    },
    {
      "cell_type": "code",
      "execution_count": 6,
      "metadata": {},
      "outputs": [
        {
          "name": "stdout",
          "output_type": "stream",
          "text": [
            "2023-10-29 13:29:51.028248: E tensorflow/compiler/xla/stream_executor/cuda/cuda_dnn.cc:9342] Unable to register cuDNN factory: Attempting to register factory for plugin cuDNN when one has already been registered\n",
            "2023-10-29 13:29:51.028308: E tensorflow/compiler/xla/stream_executor/cuda/cuda_fft.cc:609] Unable to register cuFFT factory: Attempting to register factory for plugin cuFFT when one has already been registered\n",
            "2023-10-29 13:29:51.032495: E tensorflow/compiler/xla/stream_executor/cuda/cuda_blas.cc:1518] Unable to register cuBLAS factory: Attempting to register factory for plugin cuBLAS when one has already been registered\n",
            "2023-10-29 13:29:52.125568: I tensorflow/core/platform/cpu_feature_guard.cc:182] This TensorFlow binary is optimized to use available CPU instructions in performance-critical operations.\n",
            "To enable the following instructions: AVX2 FMA, in other operations, rebuild TensorFlow with the appropriate compiler flags.\n",
            "/workspaces/PMLDL_Assignment1/notebooks/../src/models/metric/compute_metric.py:8: ParserWarning: Falling back to the 'python' engine because the 'c' engine does not support regex separators (separators > 1 char and different from '\\s+' are interpreted as regex); you can avoid this warning by specifying engine='python'.\n",
            "  dataframe = pd.read_csv(dataframe_file, sep=separator)\n",
            "\n",
            "(Translation (target), Prediction (output), Reference (input))\n",
            "(\"you didn't know that Estelle stole your fish from the garbage.\", \"You didn't know that Estelle had stolen some fish from your bin.\", \"You didn't know that Estelle had stolen some fish from your bin.\")\n",
            "(\"you'd be sucked out of your life!\", \"It'il suck the life out of you!\", \"It'il suck the life out of you!\")\n",
            "(\"I really can't take this.\", \"I can't fuckin' take that, bruv.\", \"I can't fuckin' take that, bruv.\")\n",
            "(\"they said I was a hero, but I didn't care.\", \"They called me a fucking hero. The truth is I didn't care anymore.\", \"They called me a fucking hero. The truth is I didn't care anymore.\")\n",
            "(\"I didn't fuck him.\", 'I did not screw him.', 'I did not screw him.')\n",
            "That's 100 lines that end in a tokenized period ('.')\n",
            "It looks like you forgot to detokenize your test data, which may hurt your score.\n",
            "If you insist your data is detokenized, or don't care, you can suppress this message with the `force` parameter.\n",
            "Computed sacrebleu: {'score': 22.8917754786834, 'counts': [3908067, 1973217, 1078158, 580476], 'totals': [7372539, 6794762, 6217078, 5642973], 'precisions': [53.0084276258152, 29.040266605364543, 17.341876682261347, 10.286705252709874], 'bp': 1.0, 'sys_len': 7372539, 'ref_len': 6899727}\n",
            "Score: 22.89%\n"
          ]
        }
      ],
      "source": [
        "!python {root}src/models/metric/compute_metric.py --dataframe_file={root}data/raw/filtered.tsv --predictions_column=reference --separator='\\t'"
      ]
    },
    {
      "cell_type": "markdown",
      "metadata": {},
      "source": [
        "### Preprocessed dataset"
      ]
    },
    {
      "cell_type": "code",
      "execution_count": 1,
      "metadata": {},
      "outputs": [
        {
          "name": "stdout",
          "output_type": "stream",
          "text": [
            "2023-10-23 18:32:29.174844: E tensorflow/compiler/xla/stream_executor/cuda/cuda_dnn.cc:9342] Unable to register cuDNN factory: Attempting to register factory for plugin cuDNN when one has already been registered\n",
            "2023-10-23 18:32:29.174898: E tensorflow/compiler/xla/stream_executor/cuda/cuda_fft.cc:609] Unable to register cuFFT factory: Attempting to register factory for plugin cuFFT when one has already been registered\n",
            "2023-10-23 18:32:29.174960: E tensorflow/compiler/xla/stream_executor/cuda/cuda_blas.cc:1518] Unable to register cuBLAS factory: Attempting to register factory for plugin cuBLAS when one has already been registered\n",
            "2023-10-23 18:32:29.181973: I tensorflow/core/platform/cpu_feature_guard.cc:182] This TensorFlow binary is optimized to use available CPU instructions in performance-critical operations.\n",
            "To enable the following instructions: AVX2 FMA, in other operations, rebuild TensorFlow with the appropriate compiler flags.\n",
            "/workspaces/PMLDL_Assignment1/notebooks/../src/models/metric/compute_metric.py:8: ParserWarning: Falling back to the 'python' engine because the 'c' engine does not support sep=None with delim_whitespace=False; you can avoid this warning by specifying engine='python'.\n",
            "  dataframe = pd.read_csv(dataframe_file, sep=separator)\n",
            "\n",
            "(Translation, Prediction)\n",
            "('you didn t know that estelle had stolen some fish from your bin', 'you didn t know that estelle stole your fish from the garbage')\n",
            "('you d be sucked out of your life', 'it il suck the life out of you')\n",
            "('i really can t take this', 'i can t fuckin take that bruv')\n",
            "('they said i was a hero but i didn t care', 'they called me a fucking hero the truth is i didn t care anymore')\n",
            "('i did not screw him', 'i didn t fuck him')\n",
            "Computed sacrebleu: {'score': 25.21085920534741, 'counts': [3456677, 1774830, 956137, 515615], 'totals': [6130128, 5552368, 4978722, 4418196], 'precisions': [56.388333163679455, 31.96528039928189, 19.204466527755518, 11.670260893812769], 'bp': 1.0, 'sys_len': 6130128, 'ref_len': 5983432}\n",
            "Score: 25.21%\n"
          ]
        }
      ],
      "source": [
        "!python {root}src/models/metric/compute_metric.py --dataframe_file={root}data/interim/preprocessed.csv --predictions_column=reference"
      ]
    },
    {
      "cell_type": "markdown",
      "metadata": {},
      "source": [
        "### Train dataset"
      ]
    },
    {
      "cell_type": "code",
      "execution_count": 25,
      "metadata": {},
      "outputs": [
        {
          "name": "stdout",
          "output_type": "stream",
          "text": [
            "2023-10-29 13:41:38.219448: E tensorflow/compiler/xla/stream_executor/cuda/cuda_dnn.cc:9342] Unable to register cuDNN factory: Attempting to register factory for plugin cuDNN when one has already been registered\n",
            "2023-10-29 13:41:38.219505: E tensorflow/compiler/xla/stream_executor/cuda/cuda_fft.cc:609] Unable to register cuFFT factory: Attempting to register factory for plugin cuFFT when one has already been registered\n",
            "2023-10-29 13:41:38.219548: E tensorflow/compiler/xla/stream_executor/cuda/cuda_blas.cc:1518] Unable to register cuBLAS factory: Attempting to register factory for plugin cuBLAS when one has already been registered\n",
            "2023-10-29 13:41:38.226283: I tensorflow/core/platform/cpu_feature_guard.cc:182] This TensorFlow binary is optimized to use available CPU instructions in performance-critical operations.\n",
            "To enable the following instructions: AVX2 FMA, in other operations, rebuild TensorFlow with the appropriate compiler flags.\n",
            "/workspaces/PMLDL_Assignment1/notebooks/../src/models/metric/compute_metric.py:8: ParserWarning: Falling back to the 'python' engine because the 'c' engine does not support sep=None with delim_whitespace=False; you can avoid this warning by specifying engine='python'.\n",
            "  dataframe = pd.read_csv(dataframe_file, sep=separator)\n",
            "\n",
            "(Translation (target), Prediction (output), Reference (input))\n",
            "('it s so liberating', 'that is fucking liberating', 'that is fucking liberating')\n",
            "('henry you ve had a really tough year', 'henry you have had a damn tough year', 'henry you have had a damn tough year')\n",
            "('he s undecided as his father at his age', 'he s as imprudent as his father was at his age', 'he s as imprudent as his father was at his age')\n",
            "('i can do what i want', 'i can do whatever the fuck i want', 'i can do whatever the fuck i want')\n",
            "('what s going on dad', 'what the hell dad', 'what the hell dad')\n",
            "Computed sacrebleu: {'score': 37.47398075879449, 'counts': [152744, 87920, 50781, 27722], 'totals': [226254, 194741, 163505, 133068], 'precisions': [67.50996667462233, 45.147144155570736, 31.057765817559098, 20.832957585595334], 'bp': 1.0, 'sys_len': 226254, 'ref_len': 205842}\n",
            "Score: 37.47%\n"
          ]
        }
      ],
      "source": [
        "!python {root}src/models/metric/compute_metric.py --dataframe_file={root}data/interim/train.csv --predictions_column=reference"
      ]
    },
    {
      "cell_type": "markdown",
      "metadata": {},
      "source": [
        "### Validation dataset"
      ]
    },
    {
      "cell_type": "code",
      "execution_count": 28,
      "metadata": {},
      "outputs": [
        {
          "name": "stdout",
          "output_type": "stream",
          "text": [
            "2023-10-29 13:42:05.405516: E tensorflow/compiler/xla/stream_executor/cuda/cuda_dnn.cc:9342] Unable to register cuDNN factory: Attempting to register factory for plugin cuDNN when one has already been registered\n",
            "2023-10-29 13:42:05.405581: E tensorflow/compiler/xla/stream_executor/cuda/cuda_fft.cc:609] Unable to register cuFFT factory: Attempting to register factory for plugin cuFFT when one has already been registered\n",
            "2023-10-29 13:42:05.405639: E tensorflow/compiler/xla/stream_executor/cuda/cuda_blas.cc:1518] Unable to register cuBLAS factory: Attempting to register factory for plugin cuBLAS when one has already been registered\n",
            "2023-10-29 13:42:05.412453: I tensorflow/core/platform/cpu_feature_guard.cc:182] This TensorFlow binary is optimized to use available CPU instructions in performance-critical operations.\n",
            "To enable the following instructions: AVX2 FMA, in other operations, rebuild TensorFlow with the appropriate compiler flags.\n",
            "/workspaces/PMLDL_Assignment1/notebooks/../src/models/metric/compute_metric.py:8: ParserWarning: Falling back to the 'python' engine because the 'c' engine does not support sep=None with delim_whitespace=False; you can avoid this warning by specifying engine='python'.\n",
            "  dataframe = pd.read_csv(dataframe_file, sep=separator)\n",
            "\n",
            "(Translation (target), Prediction (output), Reference (input))\n",
            "('if you re not there you re fired', 'you re not out there you re fucking fired', 'you re not out there you re fucking fired')\n",
            "('vee you know we won t say anything', 'vee you know we ain t gonna say shit', 'vee you know we ain t gonna say shit')\n",
            "('not for long', 'not for fucking long', 'not for fucking long')\n",
            "('i thought so but why do i feel like it s me', 'i thought that but why do i feel like the bitch was me', 'i thought that but why do i feel like the bitch was me')\n",
            "('it s like it s always been this million in three hours', 'as always the point is this million in three fucking hours', 'as always the point is this million in three fucking hours')\n",
            "Computed sacrebleu: {'score': 37.65266921709582, 'counts': [38232, 22003, 12751, 6987], 'totals': [56520, 48641, 40834, 33215], 'precisions': [67.64331210191082, 45.23550091486606, 31.226428956261937, 21.035676652115008], 'bp': 1.0, 'sys_len': 56520, 'ref_len': 51447}\n",
            "Score: 37.65%\n"
          ]
        }
      ],
      "source": [
        "!python {root}src/models/metric/compute_metric.py --dataframe_file={root}data/interim/val.csv --predictions_column=reference"
      ]
    },
    {
      "cell_type": "markdown",
      "metadata": {},
      "source": [
        "## Result\n",
        "\n",
        "### As you can see the highest score (37%) is on the filtered data: train or val datasets. So, the final solution will be compared with it."
      ]
    },
    {
      "cell_type": "markdown",
      "metadata": {},
      "source": [
        "## Test hypothesis 1 model (simple removal of swearing words)"
      ]
    },
    {
      "cell_type": "markdown",
      "metadata": {},
      "source": [
        "### Fit the train data"
      ]
    },
    {
      "cell_type": "code",
      "execution_count": 27,
      "metadata": {},
      "outputs": [
        {
          "name": "stdout",
          "output_type": "stream",
          "text": [
            "Total number of toxic words to be filtered: 2858\n"
          ]
        }
      ],
      "source": [
        "!python ../src/models/train_simple_model.py --project_path={project_path} --root={root}"
      ]
    },
    {
      "cell_type": "markdown",
      "metadata": {},
      "source": [
        "### Evaluate on validation dataset"
      ]
    },
    {
      "cell_type": "code",
      "execution_count": 29,
      "metadata": {},
      "outputs": [
        {
          "name": "stdout",
          "output_type": "stream",
          "text": [
            "Number of bad words to be filtered: 2858\n",
            "2023-10-29 13:42:18.300705: E tensorflow/compiler/xla/stream_executor/cuda/cuda_dnn.cc:9342] Unable to register cuDNN factory: Attempting to register factory for plugin cuDNN when one has already been registered\n",
            "2023-10-29 13:42:18.300770: E tensorflow/compiler/xla/stream_executor/cuda/cuda_fft.cc:609] Unable to register cuFFT factory: Attempting to register factory for plugin cuFFT when one has already been registered\n",
            "2023-10-29 13:42:18.300829: E tensorflow/compiler/xla/stream_executor/cuda/cuda_blas.cc:1518] Unable to register cuBLAS factory: Attempting to register factory for plugin cuBLAS when one has already been registered\n",
            "2023-10-29 13:42:18.307669: I tensorflow/core/platform/cpu_feature_guard.cc:182] This TensorFlow binary is optimized to use available CPU instructions in performance-critical operations.\n",
            "To enable the following instructions: AVX2 FMA, in other operations, rebuild TensorFlow with the appropriate compiler flags.\n",
            "/workspaces/PMLDL_Assignment1/notebooks/../src/models/metric/compute_metric.py:8: ParserWarning: Falling back to the 'python' engine because the 'c' engine does not support sep=None with delim_whitespace=False; you can avoid this warning by specifying engine='python'.\n",
            "  dataframe = pd.read_csv(dataframe_file, sep=separator)\n",
            "\n",
            "(Translation (target), Prediction (output), Reference (input))\n",
            "('if you re not there you re fired', 'you re not out there you re fired ', 'you re not out there you re fucking fired')\n",
            "('vee you know we won t say anything', 'vee you know we ain t gonna say ', 'vee you know we ain t gonna say shit')\n",
            "('not for long', 'not for long ', 'not for fucking long')\n",
            "('i thought so but why do i feel like it s me', 'i thought that but why do i feel like the was me ', 'i thought that but why do i feel like the bitch was me')\n",
            "('it s like it s always been this million in three hours', 'as always the point is this million in three hours ', 'as always the point is this million in three fucking hours')\n",
            "Computed sacrebleu: {'score': 45.97528123119192, 'counts': [37987, 23195, 14024, 7995], 'totals': [49967, 42088, 34429, 27127], 'precisions': [76.02417595613105, 55.1107203953621, 40.73310290743269, 29.472481291701996], 'bp': 0.9708148108585534, 'sys_len': 49967, 'ref_len': 51447}\n",
            "Score: 45.98%\n"
          ]
        }
      ],
      "source": [
        "!python ../src/models/predict_simple_model.py --dataframe_file=../data/interim/val.csv --root=../\n",
        "!python ../src/models/metric/compute_metric.py --dataframe_file=../data/interim/val.csv"
      ]
    },
    {
      "cell_type": "markdown",
      "metadata": {},
      "source": [
        "## The result of simple solution is quite good. It is 8% more than of baseline"
      ]
    },
    {
      "cell_type": "markdown",
      "metadata": {},
      "source": [
        "# Final model - T5 fine-tuning"
      ]
    },
    {
      "cell_type": "code",
      "execution_count": 30,
      "metadata": {},
      "outputs": [
        {
          "name": "stdout",
          "output_type": "stream",
          "text": [
            "2023-10-29 13:45:42.503166: E tensorflow/compiler/xla/stream_executor/cuda/cuda_dnn.cc:9342] Unable to register cuDNN factory: Attempting to register factory for plugin cuDNN when one has already been registered\n",
            "2023-10-29 13:45:42.503223: E tensorflow/compiler/xla/stream_executor/cuda/cuda_fft.cc:609] Unable to register cuFFT factory: Attempting to register factory for plugin cuFFT when one has already been registered\n",
            "2023-10-29 13:45:42.503264: E tensorflow/compiler/xla/stream_executor/cuda/cuda_blas.cc:1518] Unable to register cuBLAS factory: Attempting to register factory for plugin cuBLAS when one has already been registered\n",
            "2023-10-29 13:45:42.510182: I tensorflow/core/platform/cpu_feature_guard.cc:182] This TensorFlow binary is optimized to use available CPU instructions in performance-critical operations.\n",
            "To enable the following instructions: AVX2 FMA, in other operations, rebuild TensorFlow with the appropriate compiler flags.\n",
            "Map: 100%|██████████████████████| 31513/31513 [00:01<00:00, 18867.07 examples/s]\n",
            "Map: 100%|████████████████████████| 7879/7879 [00:00<00:00, 25247.86 examples/s]\n",
            "  0%|                                                  | 0/1970 [00:00<?, ?it/s]You're using a T5TokenizerFast tokenizer. Please note that with a fast tokenizer, using the `__call__` method is faster than using a method to encode the text followed by a call to the `pad` method to get a padded encoding.\n",
            "{'loss': 1.8192, 'learning_rate': 1.4923857868020306e-05, 'epoch': 0.25}        \n",
            "{'loss': 1.5561, 'learning_rate': 9.84771573604061e-06, 'epoch': 0.51}          \n",
            "{'loss': 1.4781, 'learning_rate': 4.771573604060914e-06, 'epoch': 0.76}         \n",
            "100%|███████████████████████████████████████| 1970/1970 [33:43<00:00,  1.17it/s]\n",
            "  0%|                                                   | 0/493 [00:00<?, ?it/s]\u001b[A\n",
            "  0%|▏                                          | 2/493 [00:00<03:40,  2.22it/s]\u001b[A\n",
            "  1%|▎                                          | 3/493 [00:01<05:25,  1.50it/s]\u001b[A\n",
            "  1%|▎                                          | 4/493 [00:02<06:28,  1.26it/s]\u001b[A\n",
            "  1%|▍                                          | 5/493 [00:03<07:20,  1.11it/s]\u001b[A\n",
            "  1%|▌                                          | 6/493 [00:04<07:11,  1.13it/s]\u001b[A\n",
            "  1%|▌                                          | 7/493 [00:05<07:12,  1.12it/s]\u001b[A\n",
            "  2%|▋                                          | 8/493 [00:06<07:24,  1.09it/s]\u001b[A\n",
            "  2%|▊                                          | 9/493 [00:07<07:29,  1.08it/s]\u001b[A\n",
            "  2%|▊                                         | 10/493 [00:08<07:32,  1.07it/s]\u001b[A\n",
            "  2%|▉                                         | 11/493 [00:09<07:32,  1.07it/s]\u001b[A\n",
            "  2%|█                                         | 12/493 [00:10<06:54,  1.16it/s]\u001b[A\n",
            "  3%|█                                         | 13/493 [00:11<06:58,  1.15it/s]\u001b[A\n",
            "  3%|█▏                                        | 14/493 [00:12<07:18,  1.09it/s]\u001b[A\n",
            "  3%|█▎                                        | 15/493 [00:12<07:04,  1.13it/s]\u001b[A\n",
            "  3%|█▎                                        | 16/493 [00:14<07:22,  1.08it/s]\u001b[A\n",
            "  3%|█▍                                        | 17/493 [00:14<07:30,  1.06it/s]\u001b[A\n",
            "  4%|█▌                                        | 18/493 [00:15<07:16,  1.09it/s]\u001b[A\n",
            "  4%|█▌                                        | 19/493 [00:16<07:25,  1.06it/s]\u001b[A\n",
            "  4%|█▋                                        | 20/493 [00:17<07:10,  1.10it/s]\u001b[A\n",
            "  4%|█▊                                        | 21/493 [00:18<07:07,  1.10it/s]\u001b[A\n",
            "  4%|█▊                                        | 22/493 [00:19<07:26,  1.05it/s]\u001b[A\n",
            "  5%|█▉                                        | 23/493 [00:20<07:15,  1.08it/s]\u001b[A\n",
            "  5%|██                                        | 24/493 [00:21<07:31,  1.04it/s]\u001b[A\n",
            "  5%|██▏                                       | 25/493 [00:22<07:14,  1.08it/s]\u001b[A\n",
            "  5%|██▏                                       | 26/493 [00:23<07:07,  1.09it/s]\u001b[A\n",
            "  5%|██▎                                       | 27/493 [00:24<07:00,  1.11it/s]\u001b[A\n",
            "  6%|██▍                                       | 28/493 [00:25<07:19,  1.06it/s]\u001b[A\n",
            "  6%|██▍                                       | 29/493 [00:26<07:40,  1.01it/s]\u001b[A\n",
            "  6%|██▌                                       | 30/493 [00:27<07:44,  1.00s/it]\u001b[A\n",
            "  6%|██▋                                       | 31/493 [00:28<07:57,  1.03s/it]\u001b[A\n",
            "  6%|██▋                                       | 32/493 [00:29<08:11,  1.07s/it]\u001b[A\n",
            "  7%|██▊                                       | 33/493 [00:30<08:06,  1.06s/it]\u001b[A\n",
            "  7%|██▉                                       | 34/493 [00:31<08:16,  1.08s/it]\u001b[A\n",
            "  7%|██▉                                       | 35/493 [00:32<07:58,  1.04s/it]\u001b[A\n",
            "  7%|███                                       | 36/493 [00:33<07:45,  1.02s/it]\u001b[A\n",
            "  8%|███▏                                      | 37/493 [00:34<07:35,  1.00it/s]\u001b[A\n",
            "  8%|███▏                                      | 38/493 [00:35<07:34,  1.00it/s]\u001b[A\n",
            "  8%|███▎                                      | 39/493 [00:36<07:45,  1.02s/it]\u001b[A\n",
            "  8%|███▍                                      | 40/493 [00:37<07:47,  1.03s/it]\u001b[A\n",
            "  8%|███▍                                      | 41/493 [00:38<07:24,  1.02it/s]\u001b[A\n",
            "  9%|███▌                                      | 42/493 [00:39<07:16,  1.03it/s]\u001b[A\n",
            "  9%|███▋                                      | 43/493 [00:40<07:16,  1.03it/s]\u001b[A\n",
            "  9%|███▋                                      | 44/493 [00:41<06:52,  1.09it/s]\u001b[A\n",
            "  9%|███▊                                      | 45/493 [00:42<07:04,  1.05it/s]\u001b[A\n",
            "  9%|███▉                                      | 46/493 [00:43<07:09,  1.04it/s]\u001b[A\n",
            " 10%|████                                      | 47/493 [00:44<07:34,  1.02s/it]\u001b[A\n",
            " 10%|████                                      | 48/493 [00:45<07:12,  1.03it/s]\u001b[A\n",
            " 10%|████▏                                     | 49/493 [00:46<07:22,  1.00it/s]\u001b[A\n",
            " 10%|████▎                                     | 50/493 [00:47<07:15,  1.02it/s]\u001b[A\n",
            " 10%|████▎                                     | 51/493 [00:48<06:54,  1.07it/s]\u001b[A\n",
            " 11%|████▍                                     | 52/493 [00:49<07:01,  1.05it/s]\u001b[A\n",
            " 11%|████▌                                     | 53/493 [00:50<06:52,  1.07it/s]\u001b[A\n",
            " 11%|████▌                                     | 54/493 [00:50<06:40,  1.10it/s]\u001b[A\n",
            " 11%|████▋                                     | 55/493 [00:51<06:42,  1.09it/s]\u001b[A\n",
            " 11%|████▊                                     | 56/493 [00:52<06:56,  1.05it/s]\u001b[A\n",
            " 12%|████▊                                     | 57/493 [00:53<07:06,  1.02it/s]\u001b[A\n",
            " 12%|████▉                                     | 58/493 [00:54<07:06,  1.02it/s]\u001b[A\n",
            " 12%|█████                                     | 59/493 [00:56<07:21,  1.02s/it]\u001b[A\n",
            " 12%|█████                                     | 60/493 [00:56<06:56,  1.04it/s]\u001b[A\n",
            " 12%|█████▏                                    | 61/493 [00:57<07:01,  1.03it/s]\u001b[A\n",
            " 13%|█████▎                                    | 62/493 [00:58<07:05,  1.01it/s]\u001b[A\n",
            " 13%|█████▎                                    | 63/493 [00:59<06:55,  1.03it/s]\u001b[A\n",
            " 13%|█████▍                                    | 64/493 [01:00<06:57,  1.03it/s]\u001b[A\n",
            " 13%|█████▌                                    | 65/493 [01:01<06:50,  1.04it/s]\u001b[A\n",
            " 13%|█████▌                                    | 66/493 [01:02<06:38,  1.07it/s]\u001b[A\n",
            " 14%|█████▋                                    | 67/493 [01:03<06:13,  1.14it/s]\u001b[A\n",
            " 14%|█████▊                                    | 68/493 [01:04<06:04,  1.17it/s]\u001b[A\n",
            " 14%|█████▉                                    | 69/493 [01:05<06:47,  1.04it/s]\u001b[A\n",
            " 14%|█████▉                                    | 70/493 [01:06<06:28,  1.09it/s]\u001b[A\n",
            " 14%|██████                                    | 71/493 [01:07<06:27,  1.09it/s]\u001b[A\n",
            " 15%|██████▏                                   | 72/493 [01:08<06:41,  1.05it/s]\u001b[A\n",
            " 15%|██████▏                                   | 73/493 [01:08<06:16,  1.12it/s]\u001b[A\n",
            " 15%|██████▎                                   | 74/493 [01:09<06:27,  1.08it/s]\u001b[A\n",
            " 15%|██████▍                                   | 75/493 [01:10<06:40,  1.04it/s]\u001b[A\n",
            " 15%|██████▍                                   | 76/493 [01:11<06:46,  1.03it/s]\u001b[A\n",
            " 16%|██████▌                                   | 77/493 [01:12<06:21,  1.09it/s]\u001b[A\n",
            " 16%|██████▋                                   | 78/493 [01:13<06:25,  1.08it/s]\u001b[A\n",
            " 16%|██████▋                                   | 79/493 [01:14<06:12,  1.11it/s]\u001b[A\n",
            " 16%|██████▊                                   | 80/493 [01:15<06:32,  1.05it/s]\u001b[A\n",
            " 16%|██████▉                                   | 81/493 [01:16<06:35,  1.04it/s]\u001b[A\n",
            " 17%|██████▉                                   | 82/493 [01:17<06:17,  1.09it/s]\u001b[A\n",
            " 17%|███████                                   | 83/493 [01:18<06:32,  1.05it/s]\u001b[A\n",
            " 17%|███████▏                                  | 84/493 [01:19<06:05,  1.12it/s]\u001b[A\n",
            " 17%|███████▏                                  | 85/493 [01:20<06:00,  1.13it/s]\u001b[A\n",
            " 17%|███████▎                                  | 86/493 [01:20<05:46,  1.18it/s]\u001b[A\n",
            " 18%|███████▍                                  | 87/493 [01:21<06:14,  1.08it/s]\u001b[A\n",
            " 18%|███████▍                                  | 88/493 [01:22<05:57,  1.13it/s]\u001b[A\n",
            " 18%|███████▌                                  | 89/493 [01:23<06:09,  1.09it/s]\u001b[A\n",
            " 18%|███████▋                                  | 90/493 [01:24<06:20,  1.06it/s]\u001b[A\n",
            " 18%|███████▊                                  | 91/493 [01:25<06:30,  1.03it/s]\u001b[A\n",
            " 19%|███████▊                                  | 92/493 [01:26<06:21,  1.05it/s]\u001b[A\n",
            " 19%|███████▉                                  | 93/493 [01:27<06:10,  1.08it/s]\u001b[A\n",
            " 19%|████████                                  | 94/493 [01:28<06:12,  1.07it/s]\u001b[A\n",
            " 19%|████████                                  | 95/493 [01:29<06:01,  1.10it/s]\u001b[A\n",
            " 19%|████████▏                                 | 96/493 [01:30<06:05,  1.09it/s]\u001b[A\n",
            " 20%|████████▎                                 | 97/493 [01:30<05:46,  1.14it/s]\u001b[A\n",
            " 20%|████████▎                                 | 98/493 [01:31<05:44,  1.15it/s]\u001b[A\n",
            " 20%|████████▍                                 | 99/493 [01:32<05:49,  1.13it/s]\u001b[A\n",
            " 20%|████████▎                                | 100/493 [01:33<05:56,  1.10it/s]\u001b[A\n",
            " 20%|████████▍                                | 101/493 [01:34<05:47,  1.13it/s]\u001b[A\n",
            " 21%|████████▍                                | 102/493 [01:35<06:00,  1.08it/s]\u001b[A\n",
            " 21%|████████▌                                | 103/493 [01:36<06:20,  1.03it/s]\u001b[A\n",
            " 21%|████████▋                                | 104/493 [01:37<06:18,  1.03it/s]\u001b[A\n",
            " 21%|████████▋                                | 105/493 [01:38<06:26,  1.00it/s]\u001b[A\n",
            " 22%|████████▊                                | 106/493 [01:39<06:27,  1.00s/it]\u001b[A\n",
            " 22%|████████▉                                | 107/493 [01:40<06:26,  1.00s/it]\u001b[A\n",
            " 22%|████████▉                                | 108/493 [01:41<05:59,  1.07it/s]\u001b[A\n",
            " 22%|█████████                                | 109/493 [01:42<06:04,  1.05it/s]\u001b[A\n",
            " 22%|█████████▏                               | 110/493 [01:43<05:49,  1.10it/s]\u001b[A\n",
            " 23%|█████████▏                               | 111/493 [01:44<05:24,  1.18it/s]\u001b[A\n",
            " 23%|█████████▎                               | 112/493 [01:45<05:42,  1.11it/s]\u001b[A\n",
            " 23%|█████████▍                               | 113/493 [01:45<05:35,  1.13it/s]\u001b[A\n",
            " 23%|█████████▍                               | 114/493 [01:46<06:02,  1.05it/s]\u001b[A\n",
            " 23%|█████████▌                               | 115/493 [01:48<06:12,  1.01it/s]\u001b[A\n",
            " 24%|█████████▋                               | 116/493 [01:49<06:23,  1.02s/it]\u001b[A\n",
            " 24%|█████████▋                               | 117/493 [01:50<06:25,  1.02s/it]\u001b[A\n",
            " 24%|█████████▊                               | 118/493 [01:51<06:18,  1.01s/it]\u001b[A\n",
            " 24%|█████████▉                               | 119/493 [01:52<06:14,  1.00s/it]\u001b[A\n",
            " 24%|█████████▉                               | 120/493 [01:53<06:15,  1.01s/it]\u001b[A\n",
            " 25%|██████████                               | 121/493 [01:54<06:15,  1.01s/it]\u001b[A\n",
            " 25%|██████████▏                              | 122/493 [01:55<06:01,  1.03it/s]\u001b[A\n",
            " 25%|██████████▏                              | 123/493 [01:55<05:50,  1.06it/s]\u001b[A\n",
            " 25%|██████████▎                              | 124/493 [01:56<05:53,  1.04it/s]\u001b[A\n",
            " 25%|██████████▍                              | 125/493 [01:57<05:57,  1.03it/s]\u001b[A\n",
            " 26%|██████████▍                              | 126/493 [01:58<06:03,  1.01it/s]\u001b[A\n",
            " 26%|██████████▌                              | 127/493 [01:59<05:58,  1.02it/s]\u001b[A\n",
            " 26%|██████████▋                              | 128/493 [02:00<05:37,  1.08it/s]\u001b[A\n",
            " 26%|██████████▋                              | 129/493 [02:01<05:44,  1.06it/s]\u001b[A\n",
            " 26%|██████████▊                              | 130/493 [02:02<05:46,  1.05it/s]\u001b[A\n",
            " 27%|██████████▉                              | 131/493 [02:03<05:37,  1.07it/s]\u001b[A\n",
            " 27%|██████████▉                              | 132/493 [02:04<05:18,  1.13it/s]\u001b[A\n",
            " 27%|███████████                              | 133/493 [02:05<05:18,  1.13it/s]\u001b[A\n",
            " 27%|███████████▏                             | 134/493 [02:06<05:34,  1.07it/s]\u001b[A\n",
            " 27%|███████████▏                             | 135/493 [02:07<05:40,  1.05it/s]\u001b[A\n",
            " 28%|███████████▎                             | 136/493 [02:08<05:53,  1.01it/s]\u001b[A\n",
            " 28%|███████████▍                             | 137/493 [02:09<05:41,  1.04it/s]\u001b[A\n",
            " 28%|███████████▍                             | 138/493 [02:10<05:46,  1.02it/s]\u001b[A\n",
            " 28%|███████████▌                             | 139/493 [02:11<05:51,  1.01it/s]\u001b[A\n",
            " 28%|███████████▋                             | 140/493 [02:12<05:44,  1.03it/s]\u001b[A\n",
            " 29%|███████████▋                             | 141/493 [02:13<05:49,  1.01it/s]\u001b[A\n",
            " 29%|███████████▊                             | 142/493 [02:14<06:00,  1.03s/it]\u001b[A\n",
            " 29%|███████████▉                             | 143/493 [02:15<05:54,  1.01s/it]\u001b[A\n",
            " 29%|███████████▉                             | 144/493 [02:16<05:54,  1.02s/it]\u001b[A\n",
            " 29%|████████████                             | 145/493 [02:17<06:00,  1.03s/it]\u001b[A\n",
            " 30%|████████████▏                            | 146/493 [02:18<05:29,  1.05it/s]\u001b[A\n",
            " 30%|████████████▏                            | 147/493 [02:19<05:23,  1.07it/s]\u001b[A\n",
            " 30%|████████████▎                            | 148/493 [02:20<05:33,  1.04it/s]\u001b[A\n",
            " 30%|████████████▍                            | 149/493 [02:21<05:29,  1.04it/s]\u001b[A\n",
            " 30%|████████████▍                            | 150/493 [02:22<05:27,  1.05it/s]\u001b[A\n",
            " 31%|████████████▌                            | 151/493 [02:22<05:22,  1.06it/s]\u001b[A\n",
            " 31%|████████████▋                            | 152/493 [02:24<05:36,  1.01it/s]\u001b[A\n",
            " 31%|████████████▋                            | 153/493 [02:25<05:35,  1.01it/s]\u001b[A\n",
            " 31%|████████████▊                            | 154/493 [02:25<05:33,  1.02it/s]\u001b[A\n",
            " 31%|████████████▉                            | 155/493 [02:26<05:22,  1.05it/s]\u001b[A\n",
            " 32%|████████████▉                            | 156/493 [02:27<05:31,  1.02it/s]\u001b[A\n",
            " 32%|█████████████                            | 157/493 [02:28<05:22,  1.04it/s]\u001b[A\n",
            " 32%|█████████████▏                           | 158/493 [02:29<05:16,  1.06it/s]\u001b[A\n",
            " 32%|█████████████▏                           | 159/493 [02:30<05:24,  1.03it/s]\u001b[A\n",
            " 32%|█████████████▎                           | 160/493 [02:31<05:30,  1.01it/s]\u001b[A\n",
            " 33%|█████████████▍                           | 161/493 [02:32<05:37,  1.02s/it]\u001b[A\n",
            " 33%|█████████████▍                           | 162/493 [02:33<05:08,  1.07it/s]\u001b[A\n",
            " 33%|█████████████▌                           | 163/493 [02:34<05:13,  1.05it/s]\u001b[A\n",
            " 33%|█████████████▋                           | 164/493 [02:35<05:20,  1.03it/s]\u001b[A\n",
            " 33%|█████████████▋                           | 165/493 [02:36<05:13,  1.05it/s]\u001b[A\n",
            " 34%|█████████████▊                           | 166/493 [02:37<05:11,  1.05it/s]\u001b[A\n",
            " 34%|█████████████▉                           | 167/493 [02:38<05:23,  1.01it/s]\u001b[A\n",
            " 34%|█████████████▉                           | 168/493 [02:39<05:24,  1.00it/s]\u001b[A\n",
            " 34%|██████████████                           | 169/493 [02:40<05:11,  1.04it/s]\u001b[A\n",
            " 34%|██████████████▏                          | 170/493 [02:41<05:11,  1.04it/s]\u001b[A\n",
            " 35%|██████████████▏                          | 171/493 [02:42<05:14,  1.02it/s]\u001b[A\n",
            " 35%|██████████████▎                          | 172/493 [02:43<05:11,  1.03it/s]\u001b[A\n",
            " 35%|██████████████▍                          | 173/493 [02:44<05:28,  1.03s/it]\u001b[A\n",
            " 35%|██████████████▍                          | 174/493 [02:45<05:20,  1.00s/it]\u001b[A\n",
            " 35%|██████████████▌                          | 175/493 [02:46<05:10,  1.02it/s]\u001b[A\n",
            " 36%|██████████████▋                          | 176/493 [02:47<04:53,  1.08it/s]\u001b[A\n",
            " 36%|██████████████▋                          | 177/493 [02:48<05:08,  1.03it/s]\u001b[A\n",
            " 36%|██████████████▊                          | 178/493 [02:49<05:00,  1.05it/s]\u001b[A\n",
            " 36%|██████████████▉                          | 179/493 [02:50<05:20,  1.02s/it]\u001b[A\n",
            " 37%|██████████████▉                          | 180/493 [02:51<05:20,  1.02s/it]\u001b[A\n",
            " 37%|███████████████                          | 181/493 [02:52<05:14,  1.01s/it]\u001b[A\n",
            " 37%|███████████████▏                         | 182/493 [02:53<04:46,  1.08it/s]\u001b[A\n",
            " 37%|███████████████▏                         | 183/493 [02:54<04:44,  1.09it/s]\u001b[A\n",
            " 37%|███████████████▎                         | 184/493 [02:55<04:49,  1.07it/s]\u001b[A\n",
            " 38%|███████████████▍                         | 185/493 [02:55<04:33,  1.13it/s]\u001b[A\n",
            " 38%|███████████████▍                         | 186/493 [02:56<04:42,  1.09it/s]\u001b[A\n",
            " 38%|███████████████▌                         | 187/493 [02:57<04:40,  1.09it/s]\u001b[A\n",
            " 38%|███████████████▋                         | 188/493 [02:58<04:48,  1.06it/s]\u001b[A\n",
            " 38%|███████████████▋                         | 189/493 [02:59<04:53,  1.03it/s]\u001b[A\n",
            " 39%|███████████████▊                         | 190/493 [03:00<04:55,  1.03it/s]\u001b[A\n",
            " 39%|███████████████▉                         | 191/493 [03:01<05:03,  1.00s/it]\u001b[A\n",
            " 39%|███████████████▉                         | 192/493 [03:02<04:43,  1.06it/s]\u001b[A\n",
            " 39%|████████████████                         | 193/493 [03:03<04:48,  1.04it/s]\u001b[A\n",
            " 39%|████████████████▏                        | 194/493 [03:04<04:36,  1.08it/s]\u001b[A\n",
            " 40%|████████████████▏                        | 195/493 [03:05<04:22,  1.14it/s]\u001b[A\n",
            " 40%|████████████████▎                        | 196/493 [03:06<04:33,  1.09it/s]\u001b[A\n",
            " 40%|████████████████▍                        | 197/493 [03:06<04:20,  1.14it/s]\u001b[A\n",
            " 40%|████████████████▍                        | 198/493 [03:07<04:29,  1.10it/s]\u001b[A\n",
            " 40%|████████████████▌                        | 199/493 [03:09<04:52,  1.00it/s]\u001b[A\n",
            " 41%|████████████████▋                        | 200/493 [03:10<04:51,  1.00it/s]\u001b[A\n",
            " 41%|████████████████▋                        | 201/493 [03:10<04:30,  1.08it/s]\u001b[A\n",
            " 41%|████████████████▊                        | 202/493 [03:11<04:40,  1.04it/s]\u001b[A\n",
            " 41%|████████████████▉                        | 203/493 [03:12<04:31,  1.07it/s]\u001b[A\n",
            " 41%|████████████████▉                        | 204/493 [03:13<04:24,  1.09it/s]\u001b[A\n",
            " 42%|█████████████████                        | 205/493 [03:14<04:27,  1.08it/s]\u001b[A\n",
            " 42%|█████████████████▏                       | 206/493 [03:15<04:25,  1.08it/s]\u001b[A\n",
            " 42%|█████████████████▏                       | 207/493 [03:16<04:23,  1.09it/s]\u001b[A\n",
            " 42%|█████████████████▎                       | 208/493 [03:17<04:36,  1.03it/s]\u001b[A\n",
            " 42%|█████████████████▍                       | 209/493 [03:18<04:34,  1.03it/s]\u001b[A\n",
            " 43%|█████████████████▍                       | 210/493 [03:19<04:37,  1.02it/s]\u001b[A\n",
            " 43%|█████████████████▌                       | 211/493 [03:20<04:32,  1.04it/s]\u001b[A\n",
            " 43%|█████████████████▋                       | 212/493 [03:21<04:30,  1.04it/s]\u001b[A\n",
            " 43%|█████████████████▋                       | 213/493 [03:22<04:09,  1.12it/s]\u001b[A\n",
            " 43%|█████████████████▊                       | 214/493 [03:23<04:21,  1.07it/s]\u001b[A\n",
            " 44%|█████████████████▉                       | 215/493 [03:24<04:27,  1.04it/s]\u001b[A\n",
            " 44%|█████████████████▉                       | 216/493 [03:25<04:15,  1.09it/s]\u001b[A\n",
            " 44%|██████████████████                       | 217/493 [03:26<04:19,  1.06it/s]\u001b[A\n",
            " 44%|██████████████████▏                      | 218/493 [03:27<04:23,  1.04it/s]\u001b[A\n",
            " 44%|██████████████████▏                      | 219/493 [03:27<04:17,  1.06it/s]\u001b[A\n",
            " 45%|██████████████████▎                      | 220/493 [03:28<04:07,  1.10it/s]\u001b[A\n",
            " 45%|██████████████████▍                      | 221/493 [03:29<04:07,  1.10it/s]\u001b[A\n",
            " 45%|██████████████████▍                      | 222/493 [03:30<04:17,  1.05it/s]\u001b[A\n",
            " 45%|██████████████████▌                      | 223/493 [03:31<04:18,  1.04it/s]\u001b[A\n",
            " 45%|██████████████████▋                      | 224/493 [03:32<04:04,  1.10it/s]\u001b[A\n",
            " 46%|██████████████████▋                      | 225/493 [03:33<04:08,  1.08it/s]\u001b[A\n",
            " 46%|██████████████████▊                      | 226/493 [03:34<04:10,  1.07it/s]\u001b[A\n",
            " 46%|██████████████████▉                      | 227/493 [03:35<03:59,  1.11it/s]\u001b[A\n",
            " 46%|██████████████████▉                      | 228/493 [03:36<03:53,  1.14it/s]\u001b[A\n",
            " 46%|███████████████████                      | 229/493 [03:37<03:57,  1.11it/s]\u001b[A\n",
            " 47%|███████████████████▏                     | 230/493 [03:37<04:00,  1.10it/s]\u001b[A\n",
            " 47%|███████████████████▏                     | 231/493 [03:39<04:11,  1.04it/s]\u001b[A\n",
            " 47%|███████████████████▎                     | 232/493 [03:40<04:26,  1.02s/it]\u001b[A\n",
            " 47%|███████████████████▍                     | 233/493 [03:41<04:13,  1.03it/s]\u001b[A\n",
            " 47%|███████████████████▍                     | 234/493 [03:42<04:08,  1.04it/s]\u001b[A\n",
            " 48%|███████████████████▌                     | 235/493 [03:43<04:12,  1.02it/s]\u001b[A\n",
            " 48%|███████████████████▋                     | 236/493 [03:43<04:04,  1.05it/s]\u001b[A\n",
            " 48%|███████████████████▋                     | 237/493 [03:44<04:07,  1.03it/s]\u001b[A\n",
            " 48%|███████████████████▊                     | 238/493 [03:45<03:58,  1.07it/s]\u001b[A\n",
            " 48%|███████████████████▉                     | 239/493 [03:46<04:06,  1.03it/s]\u001b[A\n",
            " 49%|███████████████████▉                     | 240/493 [03:47<04:07,  1.02it/s]\u001b[A\n",
            " 49%|████████████████████                     | 241/493 [03:48<04:11,  1.00it/s]\u001b[A\n",
            " 49%|████████████████████▏                    | 242/493 [03:49<04:09,  1.01it/s]\u001b[A\n",
            " 49%|████████████████████▏                    | 243/493 [03:50<04:00,  1.04it/s]\u001b[A\n",
            " 49%|████████████████████▎                    | 244/493 [03:51<03:50,  1.08it/s]\u001b[A\n",
            " 50%|████████████████████▍                    | 245/493 [03:52<03:53,  1.06it/s]\u001b[A\n",
            " 50%|████████████████████▍                    | 246/493 [03:53<03:55,  1.05it/s]\u001b[A\n",
            " 50%|████████████████████▌                    | 247/493 [03:54<03:59,  1.03it/s]\u001b[A\n",
            " 50%|████████████████████▌                    | 248/493 [03:55<03:59,  1.02it/s]\u001b[A\n",
            " 51%|████████████████████▋                    | 249/493 [03:56<04:00,  1.01it/s]\u001b[A\n",
            " 51%|████████████████████▊                    | 250/493 [03:57<04:16,  1.05s/it]\u001b[A\n",
            " 51%|████████████████████▊                    | 251/493 [03:58<04:05,  1.02s/it]\u001b[A\n",
            " 51%|████████████████████▉                    | 252/493 [03:59<04:11,  1.04s/it]\u001b[A\n",
            " 51%|█████████████████████                    | 253/493 [04:00<04:14,  1.06s/it]\u001b[A\n",
            " 52%|█████████████████████                    | 254/493 [04:01<04:07,  1.04s/it]\u001b[A\n",
            " 52%|█████████████████████▏                   | 255/493 [04:02<03:58,  1.00s/it]\u001b[A\n",
            " 52%|█████████████████████▎                   | 256/493 [04:03<03:54,  1.01it/s]\u001b[A\n",
            " 52%|█████████████████████▎                   | 257/493 [04:04<03:54,  1.01it/s]\u001b[A\n",
            " 52%|█████████████████████▍                   | 258/493 [04:05<03:43,  1.05it/s]\u001b[A\n",
            " 53%|█████████████████████▌                   | 259/493 [04:06<03:48,  1.02it/s]\u001b[A\n",
            " 53%|█████████████████████▌                   | 260/493 [04:07<03:43,  1.04it/s]\u001b[A\n",
            " 53%|█████████████████████▋                   | 261/493 [04:08<03:45,  1.03it/s]\u001b[A\n",
            " 53%|█████████████████████▊                   | 262/493 [04:09<03:52,  1.01s/it]\u001b[A\n",
            " 53%|█████████████████████▊                   | 263/493 [04:10<03:48,  1.01it/s]\u001b[A\n",
            " 54%|█████████████████████▉                   | 264/493 [04:11<03:24,  1.12it/s]\u001b[A\n",
            " 54%|██████████████████████                   | 265/493 [04:12<03:33,  1.07it/s]\u001b[A\n",
            " 54%|██████████████████████                   | 266/493 [04:13<03:27,  1.09it/s]\u001b[A\n",
            " 54%|██████████████████████▏                  | 267/493 [04:13<03:11,  1.18it/s]\u001b[A\n",
            " 54%|██████████████████████▎                  | 268/493 [04:14<03:14,  1.16it/s]\u001b[A\n",
            " 55%|██████████████████████▎                  | 269/493 [04:15<03:17,  1.13it/s]\u001b[A\n",
            " 55%|██████████████████████▍                  | 270/493 [04:16<03:24,  1.09it/s]\u001b[A\n",
            " 55%|██████████████████████▌                  | 271/493 [04:17<03:25,  1.08it/s]\u001b[A\n",
            " 55%|██████████████████████▌                  | 272/493 [04:18<03:35,  1.03it/s]\u001b[A\n",
            " 55%|██████████████████████▋                  | 273/493 [04:20<03:55,  1.07s/it]\u001b[A\n",
            " 56%|██████████████████████▊                  | 274/493 [04:21<03:54,  1.07s/it]\u001b[A\n",
            " 56%|██████████████████████▊                  | 275/493 [04:22<03:45,  1.03s/it]\u001b[A\n",
            " 56%|██████████████████████▉                  | 276/493 [04:22<03:31,  1.03it/s]\u001b[A\n",
            " 56%|███████████████████████                  | 277/493 [04:23<03:29,  1.03it/s]\u001b[A\n",
            " 56%|███████████████████████                  | 278/493 [04:24<03:13,  1.11it/s]\u001b[A\n",
            " 57%|███████████████████████▏                 | 279/493 [04:25<03:11,  1.11it/s]\u001b[A\n",
            " 57%|███████████████████████▎                 | 280/493 [04:26<03:15,  1.09it/s]\u001b[A\n",
            " 57%|███████████████████████▎                 | 281/493 [04:27<03:15,  1.08it/s]\u001b[A\n",
            " 57%|███████████████████████▍                 | 282/493 [04:28<03:10,  1.11it/s]\u001b[A\n",
            " 57%|███████████████████████▌                 | 283/493 [04:28<02:53,  1.21it/s]\u001b[A\n",
            " 58%|███████████████████████▌                 | 284/493 [04:29<02:50,  1.23it/s]\u001b[A\n",
            " 58%|███████████████████████▋                 | 285/493 [04:30<02:59,  1.16it/s]\u001b[A\n",
            " 58%|███████████████████████▊                 | 286/493 [04:31<03:17,  1.05it/s]\u001b[A\n",
            " 58%|███████████████████████▊                 | 287/493 [04:32<03:16,  1.05it/s]\u001b[A\n",
            " 58%|███████████████████████▉                 | 288/493 [04:33<03:20,  1.02it/s]\u001b[A\n",
            " 59%|████████████████████████                 | 289/493 [04:34<03:18,  1.03it/s]\u001b[A\n",
            " 59%|████████████████████████                 | 290/493 [04:35<03:11,  1.06it/s]\u001b[A\n",
            " 59%|████████████████████████▏                | 291/493 [04:36<02:59,  1.12it/s]\u001b[A\n",
            " 59%|████████████████████████▎                | 292/493 [04:37<03:09,  1.06it/s]\u001b[A\n",
            " 59%|████████████████████████▎                | 293/493 [04:38<03:08,  1.06it/s]\u001b[A\n",
            " 60%|████████████████████████▍                | 294/493 [04:39<03:02,  1.09it/s]\u001b[A\n",
            " 60%|████████████████████████▌                | 295/493 [04:40<03:06,  1.06it/s]\u001b[A\n",
            " 60%|████████████████████████▌                | 296/493 [04:41<03:04,  1.07it/s]\u001b[A\n",
            " 60%|████████████████████████▋                | 297/493 [04:42<03:04,  1.06it/s]\u001b[A\n",
            " 60%|████████████████████████▊                | 298/493 [04:43<03:09,  1.03it/s]\u001b[A\n",
            " 61%|████████████████████████▊                | 299/493 [04:44<03:07,  1.03it/s]\u001b[A\n",
            " 61%|████████████████████████▉                | 300/493 [04:45<03:09,  1.02it/s]\u001b[A\n",
            " 61%|█████████████████████████                | 301/493 [04:46<03:14,  1.01s/it]\u001b[A\n",
            " 61%|█████████████████████████                | 302/493 [04:47<03:12,  1.01s/it]\u001b[A\n",
            " 61%|█████████████████████████▏               | 303/493 [04:48<03:11,  1.01s/it]\u001b[A\n",
            " 62%|█████████████████████████▎               | 304/493 [04:49<03:07,  1.01it/s]\u001b[A\n",
            " 62%|█████████████████████████▎               | 305/493 [04:50<03:04,  1.02it/s]\u001b[A\n",
            " 62%|█████████████████████████▍               | 306/493 [04:51<02:57,  1.05it/s]\u001b[A\n",
            " 62%|█████████████████████████▌               | 307/493 [04:51<02:50,  1.09it/s]\u001b[A\n",
            " 62%|█████████████████████████▌               | 308/493 [04:52<02:57,  1.04it/s]\u001b[A\n",
            " 63%|█████████████████████████▋               | 309/493 [04:53<02:55,  1.05it/s]\u001b[A\n",
            " 63%|█████████████████████████▊               | 310/493 [04:54<02:56,  1.04it/s]\u001b[A\n",
            " 63%|█████████████████████████▊               | 311/493 [04:55<03:00,  1.01it/s]\u001b[A\n",
            " 63%|█████████████████████████▉               | 312/493 [04:56<02:55,  1.03it/s]\u001b[A\n",
            " 63%|██████████████████████████               | 313/493 [04:57<03:03,  1.02s/it]\u001b[A\n",
            " 64%|██████████████████████████               | 314/493 [04:58<03:01,  1.01s/it]\u001b[A\n",
            " 64%|██████████████████████████▏              | 315/493 [05:00<03:03,  1.03s/it]\u001b[A\n",
            " 64%|██████████████████████████▎              | 316/493 [05:01<03:00,  1.02s/it]\u001b[A\n",
            " 64%|██████████████████████████▎              | 317/493 [05:01<02:52,  1.02it/s]\u001b[A\n",
            " 65%|██████████████████████████▍              | 318/493 [05:03<02:57,  1.01s/it]\u001b[A\n",
            " 65%|██████████████████████████▌              | 319/493 [05:04<02:55,  1.01s/it]\u001b[A\n",
            " 65%|██████████████████████████▌              | 320/493 [05:04<02:50,  1.01it/s]\u001b[A\n",
            " 65%|██████████████████████████▋              | 321/493 [05:05<02:49,  1.01it/s]\u001b[A\n",
            " 65%|██████████████████████████▊              | 322/493 [05:06<02:31,  1.13it/s]\u001b[A\n",
            " 66%|██████████████████████████▊              | 323/493 [05:07<02:28,  1.15it/s]\u001b[A\n",
            " 66%|██████████████████████████▉              | 324/493 [05:08<02:28,  1.14it/s]\u001b[A\n",
            " 66%|███████████████████████████              | 325/493 [05:09<02:28,  1.13it/s]\u001b[A\n",
            " 66%|███████████████████████████              | 326/493 [05:10<02:35,  1.08it/s]\u001b[A\n",
            " 66%|███████████████████████████▏             | 327/493 [05:11<02:30,  1.10it/s]\u001b[A\n",
            " 67%|███████████████████████████▎             | 328/493 [05:11<02:26,  1.13it/s]\u001b[A\n",
            " 67%|███████████████████████████▎             | 329/493 [05:13<02:34,  1.06it/s]\u001b[A\n",
            " 67%|███████████████████████████▍             | 330/493 [05:13<02:35,  1.05it/s]\u001b[A\n",
            " 67%|███████████████████████████▌             | 331/493 [05:14<02:27,  1.09it/s]\u001b[A\n",
            " 67%|███████████████████████████▌             | 332/493 [05:15<02:27,  1.09it/s]\u001b[A\n",
            " 68%|███████████████████████████▋             | 333/493 [05:16<02:35,  1.03it/s]\u001b[A\n",
            " 68%|███████████████████████████▊             | 334/493 [05:17<02:39,  1.00s/it]\u001b[A\n",
            " 68%|███████████████████████████▊             | 335/493 [05:18<02:34,  1.02it/s]\u001b[A\n",
            " 68%|███████████████████████████▉             | 336/493 [05:19<02:29,  1.05it/s]\u001b[A\n",
            " 68%|████████████████████████████             | 337/493 [05:20<02:32,  1.02it/s]\u001b[A\n",
            " 69%|████████████████████████████             | 338/493 [05:21<02:37,  1.01s/it]\u001b[A\n",
            " 69%|████████████████████████████▏            | 339/493 [05:22<02:31,  1.02it/s]\u001b[A\n",
            " 69%|████████████████████████████▎            | 340/493 [05:23<02:34,  1.01s/it]\u001b[A\n",
            " 69%|████████████████████████████▎            | 341/493 [05:24<02:32,  1.00s/it]\u001b[A\n",
            " 69%|████████████████████████████▍            | 342/493 [05:25<02:35,  1.03s/it]\u001b[A\n",
            " 70%|████████████████████████████▌            | 343/493 [05:26<02:27,  1.01it/s]\u001b[A\n",
            " 70%|████████████████████████████▌            | 344/493 [05:27<02:25,  1.02it/s]\u001b[A\n",
            " 70%|████████████████████████████▋            | 345/493 [05:28<02:20,  1.05it/s]\u001b[A\n",
            " 70%|████████████████████████████▊            | 346/493 [05:29<02:16,  1.08it/s]\u001b[A\n",
            " 70%|████████████████████████████▊            | 347/493 [05:30<02:19,  1.04it/s]\u001b[A\n",
            " 71%|████████████████████████████▉            | 348/493 [05:31<02:13,  1.08it/s]\u001b[A\n",
            " 71%|█████████████████████████████            | 349/493 [05:32<02:13,  1.08it/s]\u001b[A\n",
            " 71%|█████████████████████████████            | 350/493 [05:33<02:17,  1.04it/s]\u001b[A\n",
            " 71%|█████████████████████████████▏           | 351/493 [05:34<02:23,  1.01s/it]\u001b[A\n",
            " 71%|█████████████████████████████▎           | 352/493 [05:35<02:20,  1.01it/s]\u001b[A\n",
            " 72%|█████████████████████████████▎           | 353/493 [05:36<02:20,  1.00s/it]\u001b[A\n",
            " 72%|█████████████████████████████▍           | 354/493 [05:37<02:21,  1.02s/it]\u001b[A\n",
            " 72%|█████████████████████████████▌           | 355/493 [05:38<02:16,  1.01it/s]\u001b[A\n",
            " 72%|█████████████████████████████▌           | 356/493 [05:39<02:18,  1.01s/it]\u001b[A\n",
            " 72%|█████████████████████████████▋           | 357/493 [05:40<02:19,  1.02s/it]\u001b[A\n",
            " 73%|█████████████████████████████▊           | 358/493 [05:41<02:10,  1.04it/s]\u001b[A\n",
            " 73%|█████████████████████████████▊           | 359/493 [05:42<02:06,  1.06it/s]\u001b[A\n",
            " 73%|█████████████████████████████▉           | 360/493 [05:43<02:07,  1.05it/s]\u001b[A\n",
            " 73%|██████████████████████████████           | 361/493 [05:44<02:04,  1.06it/s]\u001b[A\n",
            " 73%|██████████████████████████████           | 362/493 [05:45<02:11,  1.00s/it]\u001b[A\n",
            " 74%|██████████████████████████████▏          | 363/493 [05:46<02:07,  1.02it/s]\u001b[A\n",
            " 74%|██████████████████████████████▎          | 364/493 [05:47<02:00,  1.07it/s]\u001b[A\n",
            " 74%|██████████████████████████████▎          | 365/493 [05:48<02:00,  1.07it/s]\u001b[A\n",
            " 74%|██████████████████████████████▍          | 366/493 [05:49<02:04,  1.02it/s]\u001b[A\n",
            " 74%|██████████████████████████████▌          | 367/493 [05:50<02:09,  1.03s/it]\u001b[A\n",
            " 75%|██████████████████████████████▌          | 368/493 [05:51<02:05,  1.00s/it]\u001b[A\n",
            " 75%|██████████████████████████████▋          | 369/493 [05:52<02:00,  1.03it/s]\u001b[A\n",
            " 75%|██████████████████████████████▊          | 370/493 [05:53<01:57,  1.05it/s]\u001b[A\n",
            " 75%|██████████████████████████████▊          | 371/493 [05:54<02:01,  1.01it/s]\u001b[A\n",
            " 75%|██████████████████████████████▉          | 372/493 [05:55<01:57,  1.03it/s]\u001b[A\n",
            " 76%|███████████████████████████████          | 373/493 [05:55<01:52,  1.07it/s]\u001b[A\n",
            " 76%|███████████████████████████████          | 374/493 [05:56<01:45,  1.12it/s]\u001b[A\n",
            " 76%|███████████████████████████████▏         | 375/493 [05:57<01:44,  1.13it/s]\u001b[A\n",
            " 76%|███████████████████████████████▎         | 376/493 [05:58<01:44,  1.12it/s]\u001b[A\n",
            " 76%|███████████████████████████████▎         | 377/493 [05:59<01:44,  1.11it/s]\u001b[A\n",
            " 77%|███████████████████████████████▍         | 378/493 [06:00<01:44,  1.10it/s]\u001b[A\n",
            " 77%|███████████████████████████████▌         | 379/493 [06:01<01:43,  1.10it/s]\u001b[A\n",
            " 77%|███████████████████████████████▌         | 380/493 [06:02<01:45,  1.07it/s]\u001b[A\n",
            " 77%|███████████████████████████████▋         | 381/493 [06:03<01:40,  1.12it/s]\u001b[A\n",
            " 77%|███████████████████████████████▊         | 382/493 [06:04<01:48,  1.02it/s]\u001b[A\n",
            " 78%|███████████████████████████████▊         | 383/493 [06:05<01:47,  1.03it/s]\u001b[A\n",
            " 78%|███████████████████████████████▉         | 384/493 [06:06<01:49,  1.00s/it]\u001b[A\n",
            " 78%|████████████████████████████████         | 385/493 [06:07<01:49,  1.01s/it]\u001b[A\n",
            " 78%|████████████████████████████████         | 386/493 [06:08<01:48,  1.02s/it]\u001b[A\n",
            " 78%|████████████████████████████████▏        | 387/493 [06:09<01:41,  1.04it/s]\u001b[A\n",
            " 79%|████████████████████████████████▎        | 388/493 [06:10<01:38,  1.06it/s]\u001b[A\n",
            " 79%|████████████████████████████████▎        | 389/493 [06:10<01:39,  1.05it/s]\u001b[A\n",
            " 79%|████████████████████████████████▍        | 390/493 [06:12<01:40,  1.02it/s]\u001b[A\n",
            " 79%|████████████████████████████████▌        | 391/493 [06:12<01:31,  1.12it/s]\u001b[A\n",
            " 80%|████████████████████████████████▌        | 392/493 [06:13<01:33,  1.08it/s]\u001b[A\n",
            " 80%|████████████████████████████████▋        | 393/493 [06:14<01:37,  1.03it/s]\u001b[A\n",
            " 80%|████████████████████████████████▊        | 394/493 [06:15<01:33,  1.06it/s]\u001b[A\n",
            " 80%|████████████████████████████████▊        | 395/493 [06:16<01:27,  1.12it/s]\u001b[A\n",
            " 80%|████████████████████████████████▉        | 396/493 [06:17<01:30,  1.07it/s]\u001b[A\n",
            " 81%|█████████████████████████████████        | 397/493 [06:18<01:31,  1.05it/s]\u001b[A\n",
            " 81%|█████████████████████████████████        | 398/493 [06:19<01:30,  1.05it/s]\u001b[A\n",
            " 81%|█████████████████████████████████▏       | 399/493 [06:20<01:33,  1.00it/s]\u001b[A\n",
            " 81%|█████████████████████████████████▎       | 400/493 [06:21<01:30,  1.03it/s]\u001b[A\n",
            " 81%|█████████████████████████████████▎       | 401/493 [06:22<01:29,  1.03it/s]\u001b[A\n",
            " 82%|█████████████████████████████████▍       | 402/493 [06:23<01:25,  1.07it/s]\u001b[A\n",
            " 82%|█████████████████████████████████▌       | 403/493 [06:24<01:27,  1.03it/s]\u001b[A\n",
            " 82%|█████████████████████████████████▌       | 404/493 [06:25<01:26,  1.03it/s]\u001b[A\n",
            " 82%|█████████████████████████████████▋       | 405/493 [06:26<01:29,  1.02s/it]\u001b[A\n",
            " 82%|█████████████████████████████████▊       | 406/493 [06:27<01:28,  1.01s/it]\u001b[A\n",
            " 83%|█████████████████████████████████▊       | 407/493 [06:28<01:25,  1.01it/s]\u001b[A\n",
            " 83%|█████████████████████████████████▉       | 408/493 [06:29<01:23,  1.02it/s]\u001b[A\n",
            " 83%|██████████████████████████████████       | 409/493 [06:30<01:17,  1.08it/s]\u001b[A\n",
            " 83%|██████████████████████████████████       | 410/493 [06:31<01:19,  1.04it/s]\u001b[A\n",
            " 83%|██████████████████████████████████▏      | 411/493 [06:32<01:19,  1.04it/s]\u001b[A\n",
            " 84%|██████████████████████████████████▎      | 412/493 [06:32<01:15,  1.07it/s]\u001b[A\n",
            " 84%|██████████████████████████████████▎      | 413/493 [06:33<01:15,  1.06it/s]\u001b[A\n",
            " 84%|██████████████████████████████████▍      | 414/493 [06:34<01:13,  1.07it/s]\u001b[A\n",
            " 84%|██████████████████████████████████▌      | 415/493 [06:35<01:14,  1.05it/s]\u001b[A\n",
            " 84%|██████████████████████████████████▌      | 416/493 [06:36<01:14,  1.03it/s]\u001b[A\n",
            " 85%|██████████████████████████████████▋      | 417/493 [06:37<01:13,  1.03it/s]\u001b[A\n",
            " 85%|██████████████████████████████████▊      | 418/493 [06:38<01:12,  1.03it/s]\u001b[A\n",
            " 85%|██████████████████████████████████▊      | 419/493 [06:39<01:12,  1.03it/s]\u001b[A\n",
            " 85%|██████████████████████████████████▉      | 420/493 [06:40<01:12,  1.01it/s]\u001b[A\n",
            " 85%|███████████████████████████████████      | 421/493 [06:41<01:09,  1.03it/s]\u001b[A\n",
            " 86%|███████████████████████████████████      | 422/493 [06:42<01:10,  1.01it/s]\u001b[A\n",
            " 86%|███████████████████████████████████▏     | 423/493 [06:43<01:08,  1.02it/s]\u001b[A\n",
            " 86%|███████████████████████████████████▎     | 424/493 [06:44<01:06,  1.03it/s]\u001b[A\n",
            " 86%|███████████████████████████████████▎     | 425/493 [06:45<01:05,  1.03it/s]\u001b[A\n",
            " 86%|███████████████████████████████████▍     | 426/493 [06:46<01:04,  1.04it/s]\u001b[A\n",
            " 87%|███████████████████████████████████▌     | 427/493 [06:47<01:05,  1.01it/s]\u001b[A\n",
            " 87%|███████████████████████████████████▌     | 428/493 [06:48<00:59,  1.09it/s]\u001b[A\n",
            " 87%|███████████████████████████████████▋     | 429/493 [06:49<00:56,  1.13it/s]\u001b[A\n",
            " 87%|███████████████████████████████████▊     | 430/493 [06:50<00:54,  1.15it/s]\u001b[A\n",
            " 87%|███████████████████████████████████▊     | 431/493 [06:51<00:57,  1.07it/s]\u001b[A\n",
            " 88%|███████████████████████████████████▉     | 432/493 [06:52<00:57,  1.06it/s]\u001b[A\n",
            " 88%|████████████████████████████████████     | 433/493 [06:52<00:54,  1.10it/s]\u001b[A\n",
            " 88%|████████████████████████████████████     | 434/493 [06:54<00:57,  1.03it/s]\u001b[A\n",
            " 88%|████████████████████████████████████▏    | 435/493 [06:54<00:55,  1.05it/s]\u001b[A\n",
            " 88%|████████████████████████████████████▎    | 436/493 [06:55<00:52,  1.08it/s]\u001b[A\n",
            " 89%|████████████████████████████████████▎    | 437/493 [06:56<00:54,  1.04it/s]\u001b[A\n",
            " 89%|████████████████████████████████████▍    | 438/493 [06:57<00:52,  1.04it/s]\u001b[A\n",
            " 89%|████████████████████████████████████▌    | 439/493 [06:58<00:49,  1.09it/s]\u001b[A\n",
            " 89%|████████████████████████████████████▌    | 440/493 [06:59<00:49,  1.07it/s]\u001b[A\n",
            " 89%|████████████████████████████████████▋    | 441/493 [07:00<00:50,  1.03it/s]\u001b[A\n",
            " 90%|████████████████████████████████████▊    | 442/493 [07:01<00:51,  1.01s/it]\u001b[A\n",
            " 90%|████████████████████████████████████▊    | 443/493 [07:02<00:49,  1.02it/s]\u001b[A\n",
            " 90%|████████████████████████████████████▉    | 444/493 [07:03<00:48,  1.02it/s]\u001b[A\n",
            " 90%|█████████████████████████████████████    | 445/493 [07:04<00:45,  1.05it/s]\u001b[A\n",
            " 90%|█████████████████████████████████████    | 446/493 [07:05<00:47,  1.01s/it]\u001b[A\n",
            " 91%|█████████████████████████████████████▏   | 447/493 [07:06<00:47,  1.03s/it]\u001b[A\n",
            " 91%|█████████████████████████████████████▎   | 448/493 [07:07<00:44,  1.01it/s]\u001b[A\n",
            " 91%|█████████████████████████████████████▎   | 449/493 [07:08<00:39,  1.10it/s]\u001b[A\n",
            " 91%|█████████████████████████████████████▍   | 450/493 [07:09<00:39,  1.09it/s]\u001b[A\n",
            " 91%|█████████████████████████████████████▌   | 451/493 [07:10<00:39,  1.07it/s]\u001b[A\n",
            " 92%|█████████████████████████████████████▌   | 452/493 [07:11<00:38,  1.07it/s]\u001b[A\n",
            " 92%|█████████████████████████████████████▋   | 453/493 [07:12<00:37,  1.07it/s]\u001b[A\n",
            " 92%|█████████████████████████████████████▊   | 454/493 [07:13<00:36,  1.07it/s]\u001b[A\n",
            " 92%|█████████████████████████████████████▊   | 455/493 [07:13<00:33,  1.15it/s]\u001b[A\n",
            " 92%|█████████████████████████████████████▉   | 456/493 [07:14<00:31,  1.17it/s]\u001b[A\n",
            " 93%|██████████████████████████████████████   | 457/493 [07:15<00:32,  1.10it/s]\u001b[A\n",
            " 93%|██████████████████████████████████████   | 458/493 [07:16<00:30,  1.13it/s]\u001b[A\n",
            " 93%|██████████████████████████████████████▏  | 459/493 [07:17<00:30,  1.11it/s]\u001b[A\n",
            " 93%|██████████████████████████████████████▎  | 460/493 [07:18<00:28,  1.15it/s]\u001b[A\n",
            " 94%|██████████████████████████████████████▎  | 461/493 [07:19<00:27,  1.18it/s]\u001b[A\n",
            " 94%|██████████████████████████████████████▍  | 462/493 [07:19<00:26,  1.16it/s]\u001b[A\n",
            " 94%|██████████████████████████████████████▌  | 463/493 [07:20<00:26,  1.14it/s]\u001b[A\n",
            " 94%|██████████████████████████████████████▌  | 464/493 [07:21<00:26,  1.10it/s]\u001b[A\n",
            " 94%|██████████████████████████████████████▋  | 465/493 [07:22<00:26,  1.07it/s]\u001b[A\n",
            " 95%|██████████████████████████████████████▊  | 466/493 [07:23<00:24,  1.11it/s]\u001b[A\n",
            " 95%|██████████████████████████████████████▊  | 467/493 [07:25<00:26,  1.03s/it]\u001b[A\n",
            " 95%|██████████████████████████████████████▉  | 468/493 [07:25<00:25,  1.01s/it]\u001b[A\n",
            " 95%|███████████████████████████████████████  | 469/493 [07:26<00:22,  1.06it/s]\u001b[A\n",
            " 95%|███████████████████████████████████████  | 470/493 [07:27<00:22,  1.01it/s]\u001b[A\n",
            " 96%|███████████████████████████████████████▏ | 471/493 [07:28<00:21,  1.03it/s]\u001b[A\n",
            " 96%|███████████████████████████████████████▎ | 472/493 [07:29<00:19,  1.09it/s]\u001b[A\n",
            " 96%|███████████████████████████████████████▎ | 473/493 [07:30<00:19,  1.05it/s]\u001b[A\n",
            " 96%|███████████████████████████████████████▍ | 474/493 [07:31<00:16,  1.13it/s]\u001b[A\n",
            " 96%|███████████████████████████████████████▌ | 475/493 [07:32<00:15,  1.16it/s]\u001b[A\n",
            " 97%|███████████████████████████████████████▌ | 476/493 [07:33<00:15,  1.11it/s]\u001b[A\n",
            " 97%|███████████████████████████████████████▋ | 477/493 [07:33<00:14,  1.14it/s]\u001b[A\n",
            " 97%|███████████████████████████████████████▊ | 478/493 [07:34<00:13,  1.09it/s]\u001b[A\n",
            " 97%|███████████████████████████████████████▊ | 479/493 [07:35<00:12,  1.13it/s]\u001b[A\n",
            " 97%|███████████████████████████████████████▉ | 480/493 [07:36<00:11,  1.09it/s]\u001b[A\n",
            " 98%|████████████████████████████████████████ | 481/493 [07:37<00:11,  1.04it/s]\u001b[A\n",
            " 98%|████████████████████████████████████████ | 482/493 [07:38<00:10,  1.02it/s]\u001b[A\n",
            " 98%|████████████████████████████████████████▏| 483/493 [07:39<00:09,  1.02it/s]\u001b[A\n",
            " 98%|████████████████████████████████████████▎| 484/493 [07:40<00:08,  1.02it/s]\u001b[A\n",
            " 98%|████████████████████████████████████████▎| 485/493 [07:41<00:07,  1.03it/s]\u001b[A\n",
            " 99%|████████████████████████████████████████▍| 486/493 [07:42<00:06,  1.07it/s]\u001b[A\n",
            " 99%|████████████████████████████████████████▌| 487/493 [07:43<00:05,  1.09it/s]\u001b[A\n",
            " 99%|████████████████████████████████████████▌| 488/493 [07:44<00:04,  1.07it/s]\u001b[A\n",
            " 99%|████████████████████████████████████████▋| 489/493 [07:45<00:03,  1.03it/s]\u001b[A\n",
            " 99%|████████████████████████████████████████▊| 490/493 [07:46<00:02,  1.06it/s]\u001b[A\n",
            "100%|████████████████████████████████████████▊| 491/493 [07:47<00:01,  1.06it/s]\u001b[A\n",
            "100%|████████████████████████████████████████▉| 492/493 [07:48<00:00,  1.05it/s]\u001b[A\n",
            "                                                                                \u001b[A\n",
            "\u001b[A{'eval_loss': 1.3045462369918823, 'eval_bleu': 46.911, 'eval_gen_len': 9.399, 'eval_runtime': 470.9766, 'eval_samples_per_second': 16.729, 'eval_steps_per_second': 1.047, 'epoch': 1.0}\n",
            "100%|███████████████████████████████████████| 1970/1970 [41:34<00:00,  1.17it/s]\n",
            "100%|█████████████████████████████████████████| 493/493 [07:49<00:00,  1.14it/s]\u001b[A\n",
            "{'train_runtime': 2494.1247, 'train_samples_per_second': 12.635, 'train_steps_per_second': 0.79, 'train_loss': 1.5876167103723826, 'epoch': 1.0}\n",
            "100%|███████████████████████████████████████| 1970/1970 [41:34<00:00,  1.27s/it]\n"
          ]
        }
      ],
      "source": [
        "!python ../src/models/train_model.py --train_path={root}data/interim/train.csv --val_path={root}data/interim/val.csv --save_dir={root}"
      ]
    },
    {
      "cell_type": "markdown",
      "metadata": {
        "id": "h_SJ70RMtLdj"
      },
      "source": [
        "# Test fine tuned model"
      ]
    },
    {
      "cell_type": "code",
      "execution_count": 33,
      "metadata": {},
      "outputs": [
        {
          "name": "stderr",
          "output_type": "stream",
          "text": [
            "2023-10-29 14:47:21.772377: E tensorflow/compiler/xla/stream_executor/cuda/cuda_dnn.cc:9342] Unable to register cuDNN factory: Attempting to register factory for plugin cuDNN when one has already been registered\n",
            "2023-10-29 14:47:21.772436: E tensorflow/compiler/xla/stream_executor/cuda/cuda_fft.cc:609] Unable to register cuFFT factory: Attempting to register factory for plugin cuFFT when one has already been registered\n",
            "2023-10-29 14:47:21.772471: E tensorflow/compiler/xla/stream_executor/cuda/cuda_blas.cc:1518] Unable to register cuBLAS factory: Attempting to register factory for plugin cuBLAS when one has already been registered\n",
            "2023-10-29 14:47:21.780078: I tensorflow/core/platform/cpu_feature_guard.cc:182] This TensorFlow binary is optimized to use available CPU instructions in performance-critical operations.\n",
            "To enable the following instructions: AVX2 FMA, in other operations, rebuild TensorFlow with the appropriate compiler flags.\n"
          ]
        }
      ],
      "source": [
        "from transformers import DataCollatorForSeq2Seq, AutoModelForSeq2SeqLM, \\\n",
        "    Seq2SeqTrainingArguments, Seq2SeqTrainer, AutoTokenizer\n",
        "prefix = \"paraphrase from toxic to neutral: \"\n",
        "\n",
        "checkp = f'{root}output_dir/trained_model'\n",
        "\n",
        "tokenizer = AutoTokenizer.from_pretrained(checkp)\n",
        "model = AutoModelForSeq2SeqLM.from_pretrained(checkp)"
      ]
    },
    {
      "cell_type": "code",
      "execution_count": 39,
      "metadata": {},
      "outputs": [
        {
          "data": {
            "text/plain": [
              "'it didn t get him out'"
            ]
          },
          "execution_count": 39,
          "metadata": {},
          "output_type": "execute_result"
        }
      ],
      "source": [
        "text = prefix + \"you can t talk to these old ass ladies like that\"\n",
        "text = prefix + \"it didn t fuck him\"\n",
        "inputs = tokenizer(text, return_tensors=\"pt\").input_ids\n",
        "outputs = model.generate(inputs, max_new_tokens=40, do_sample=True, top_k=30, top_p=0.95)\n",
        "\n",
        "tokenizer.decode(outputs[0], skip_special_tokens=True)"
      ]
    },
    {
      "cell_type": "markdown",
      "metadata": {
        "id": "DiUa833xtOJv"
      },
      "source": [
        "# Visualization"
      ]
    },
    {
      "cell_type": "code",
      "execution_count": null,
      "metadata": {
        "id": "tdRd42nOtPRA"
      },
      "outputs": [],
      "source": []
    }
  ],
  "metadata": {
    "colab": {
      "provenance": []
    },
    "kernelspec": {
      "display_name": "Python 3",
      "name": "python3"
    },
    "language_info": {
      "codemirror_mode": {
        "name": "ipython",
        "version": 3
      },
      "file_extension": ".py",
      "mimetype": "text/x-python",
      "name": "python",
      "nbconvert_exporter": "python",
      "pygments_lexer": "ipython3",
      "version": "3.10.8"
    }
  },
  "nbformat": 4,
  "nbformat_minor": 0
}
