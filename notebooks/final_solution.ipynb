{
  "nbformat": 4,
  "nbformat_minor": 0,
  "metadata": {
    "colab": {
      "provenance": []
    },
    "kernelspec": {
      "name": "python3",
      "display_name": "Python 3"
    },
    "language_info": {
      "name": "python"
    }
  },
  "cells": [
    {
      "cell_type": "markdown",
      "source": [
        "# Imports"
      ],
      "metadata": {
        "id": "h_SJ70RMtLdj"
      }
    },
    {
      "cell_type": "code",
      "execution_count": null,
      "metadata": {
        "id": "ds_T_nImtJbt"
      },
      "outputs": [],
      "source": []
    },
    {
      "cell_type": "markdown",
      "source": [
        "# Training"
      ],
      "metadata": {
        "id": "5WSdBcRztM4G"
      }
    },
    {
      "cell_type": "code",
      "source": [],
      "metadata": {
        "id": "vF8d7LFItN2m"
      },
      "execution_count": null,
      "outputs": []
    },
    {
      "cell_type": "markdown",
      "source": [
        "# Visualization"
      ],
      "metadata": {
        "id": "DiUa833xtOJv"
      }
    },
    {
      "cell_type": "code",
      "source": [],
      "metadata": {
        "id": "tdRd42nOtPRA"
      },
      "execution_count": null,
      "outputs": []
    }
  ]
}